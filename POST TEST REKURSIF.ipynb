{
 "cells": [
  {
   "cell_type": "markdown",
   "metadata": {},
   "source": [
    "Nama : Izam Rosiawan\n",
    "\n",
    "Nim : 103102400049\n",
    "\n",
    "Kelas: DS - 04 - 02\n"
   ]
  },
  {
   "cell_type": "code",
   "execution_count": 4,
   "metadata": {},
   "outputs": [
    {
     "name": "stdout",
     "output_type": "stream",
     "text": [
      "Hasil akhir dari 9875 adalah 2\n"
     ]
    }
   ],
   "source": [
    "def sum_digits(n):\n",
    "    if n < 10: # Saya memilih angka 10 dikarenakan, jika kurang dari 10 maka satu angka\n",
    "        return n\n",
    "    else:\n",
    "        total = n % 10 + sum_digits (n // 10) \n",
    "        if total >= 10: # Jika n masih memiliki lebih dari satu digit, panggil kembali fungsi\n",
    "            return sum_digits(total)\n",
    "        else:\n",
    "            return total\n",
    "\n",
    "angka = 9875\n",
    "hasil = sum_digits(angka)\n",
    "print(f\"Hasil akhir dari {angka} adalah {hasil}\")"
   ]
  }
 ],
 "metadata": {
  "kernelspec": {
   "display_name": "Python 3",
   "language": "python",
   "name": "python3"
  },
  "language_info": {
   "codemirror_mode": {
    "name": "ipython",
    "version": 3
   },
   "file_extension": ".py",
   "mimetype": "text/x-python",
   "name": "python",
   "nbconvert_exporter": "python",
   "pygments_lexer": "ipython3",
   "version": "3.11.9"
  }
 },
 "nbformat": 4,
 "nbformat_minor": 2
}
