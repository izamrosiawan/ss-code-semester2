{
 "cells": [
  {
   "cell_type": "markdown",
   "metadata": {},
   "source": [
    "IZAM ROSIAWAN (103102400049)"
   ]
  },
  {
   "cell_type": "markdown",
   "metadata": {},
   "source": [
    "Program"
   ]
  },
  {
   "cell_type": "code",
   "execution_count": 4,
   "metadata": {},
   "outputs": [],
   "source": [
    "class TabunganSantri:\n",
    "    def __init__(self, nama, saldo): # fungsi dasar\n",
    "        self.nama = nama\n",
    "        self.saldo = saldo\n",
    "    \n",
    "    def tampilkan_info(self): # fungsi menampilkan info\n",
    "        print(\"Nama:\", self.nama)\n",
    "        print(\"Saldo:\", self.saldo)\n",
    "    \n",
    "    def tabung(self, jumlah): # fungsi menabung\n",
    "        self.saldo += jumlah\n",
    "        print(\"Berhasil menabung\", jumlah)\n",
    "        print(\"Saldo sekarang:\", self.saldo)\n",
    "    \n",
    "    def ambil(self, jumlah): # fungsi mengambil\n",
    "        if jumlah <= self.saldo:\n",
    "            self.saldo -= jumlah\n",
    "            print(\"Berhasil mengambil\", jumlah)\n",
    "            print(\"Saldo tersisa:\", self.saldo)\n",
    "        else:\n",
    "            print(\"Saldo tidak cukup\")\n",
    "            print(\"Saldo Anda:\", self.saldo)\n",
    "    \n",
    "    def cek_bonus(self): # fungsi cek bonus dan program hitung bonus\n",
    "        if self.saldo > 1000000:\n",
    "            bonus = self.saldo * 0.05\n",
    "            print(\"Bonus 5%:\", bonus)\n",
    "            print(\"Total saldo:\", self.saldo + bonus)\n",
    "        else:\n",
    "            print(\"Belum dapat bonus\")"
   ]
  },
  {
   "cell_type": "markdown",
   "metadata": {},
   "source": [
    "Pemanggilan Program"
   ]
  },
  {
   "cell_type": "code",
   "execution_count": 16,
   "metadata": {},
   "outputs": [
    {
     "name": "stdout",
     "output_type": "stream",
     "text": [
      "1. Informasi awal tabungan:\n",
      "Nama: Ahmad\n",
      "Saldo: 500000\n",
      "\n",
      "2. Menabung :\n",
      "Berhasil menabung 700000\n",
      "Saldo sekarang: 1200000\n",
      "\n",
      "3. Mengambil :\n",
      "Berhasil mengambil 100000\n",
      "Saldo tersisa: 1100000\n",
      "\n",
      "5. Mengecek bonus :\n",
      "Bonus 5%: 55000.0\n",
      "Total saldo: 1155000.0\n"
     ]
    }
   ],
   "source": [
    "santri1 = TabunganSantri(\"Ahmad\", 500_000)\n",
    "\n",
    "print(\"1. Informasi awal tabungan:\")\n",
    "santri1.tampilkan_info()\n",
    "print()\n",
    "print(\"2. Menabung :\")\n",
    "santri1.tabung(700_000)\n",
    "print()\n",
    "print(\"3. Mengambil :\")\n",
    "santri1.ambil(100_000)\n",
    "print()\n",
    "print(\"5. Mengecek bonus :\")\n",
    "santri1.cek_bonus()"
   ]
  }
 ],
 "metadata": {
  "kernelspec": {
   "display_name": "Python 3",
   "language": "python",
   "name": "python3"
  },
  "language_info": {
   "codemirror_mode": {
    "name": "ipython",
    "version": 3
   },
   "file_extension": ".py",
   "mimetype": "text/x-python",
   "name": "python",
   "nbconvert_exporter": "python",
   "pygments_lexer": "ipython3",
   "version": "3.11.9"
  }
 },
 "nbformat": 4,
 "nbformat_minor": 2
}
