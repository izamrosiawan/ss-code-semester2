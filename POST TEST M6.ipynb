{
 "cells": [
  {
   "cell_type": "markdown",
   "metadata": {},
   "source": [
    "### NAMA : IZAM ROSIAWAN\n",
    "### NIM : 103102400049\n",
    "### KELAS : DS-04-02"
   ]
  },
  {
   "cell_type": "markdown",
   "metadata": {},
   "source": [
    "Deskripsi: \n",
    "Pak Budi ingin membangu sebuah rumah baru untuk tempat tinggal, setelah berdiskusi \n",
    "dengan kontraktor maka untuk membangun rumah membutuhkan sekitar 128 sak semen. \n",
    "Setelah Pak Budi pergi menuju toko bangunan ada promo yang diberikan kepada Pak Budi \n",
    "yaitu, 1 sak semen Rp. 7.000, 3 sak semen Rp. 19.000, dan 5 sak semen Rp. 30.000. Bantu \n",
    "Pak Budi untuk menghitung biaya minimum untuk mengetahui berapa uang yang harus \n",
    "dikeluarkan untuk membeli semen. "
   ]
  },
  {
   "cell_type": "code",
   "execution_count": null,
   "metadata": {},
   "outputs": [
    {
     "name": "stdout",
     "output_type": "stream",
     "text": [
      "Biaya minimum untuk membeli 128 sak semen adalah Rp. 769000\n"
     ]
    }
   ],
   "source": [
    "def hitung_biaya(sak_dibutuhkan):\n",
    "    paket = [\n",
    "        {\"jumlah\": 5, \"harga\": 30000},\n",
    "        {\"jumlah\": 3, \"harga\": 19000},  \n",
    "        {\"jumlah\": 1, \"harga\": 7000}\n",
    "    ]\n",
    "\n",
    "    total_biaya = 0\n",
    "    sisa_sak = sak_dibutuhkan\n",
    "\n",
    "    for p in paket:\n",
    "        if sisa_sak >= p[\"jumlah\"]:\n",
    "            jumlah_paket = sisa_sak // p[\"jumlah\"]\n",
    "            sisa_sak = sisa_sak % p[\"jumlah\"] \n",
    "            total_biaya += jumlah_paket * p[\"harga\"]\n",
    "\n",
    "    return total_biaya\n",
    "\n",
    "biaya = hitung_biaya(128)\n",
    "print(\"Biaya minimum untuk membeli 128 sak semen adalah Rp.\", biaya)"
   ]
  },
  {
   "cell_type": "code",
   "execution_count": null,
   "metadata": {},
   "outputs": [],
   "source": []
  }
 ],
 "metadata": {
  "kernelspec": {
   "display_name": "Python 3",
   "language": "python",
   "name": "python3"
  },
  "language_info": {
   "codemirror_mode": {
    "name": "ipython",
    "version": 3
   },
   "file_extension": ".py",
   "mimetype": "text/x-python",
   "name": "python",
   "nbconvert_exporter": "python",
   "pygments_lexer": "ipython3",
   "version": "3.11.9"
  }
 },
 "nbformat": 4,
 "nbformat_minor": 2
}
