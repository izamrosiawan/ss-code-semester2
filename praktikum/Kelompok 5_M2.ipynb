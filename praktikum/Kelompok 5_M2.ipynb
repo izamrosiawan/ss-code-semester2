{
  "nbformat": 4,
  "nbformat_minor": 0,
  "metadata": {
    "colab": {
      "provenance": []
    },
    "kernelspec": {
      "name": "python3",
      "display_name": "Python 3"
    },
    "language_info": {
      "name": "python"
    }
  },
  "cells": [
    {
      "cell_type": "code",
      "execution_count": 15,
      "metadata": {
        "id": "6YgRDtYUQhh1",
        "colab": {
          "base_uri": "https://localhost:8080/"
        },
        "outputId": "368c6ce5-0c36-4a67-f298-08ee69660aab"
      },
      "outputs": [
        {
          "output_type": "stream",
          "name": "stdout",
          "text": [
            "masukan jam: 0\n",
            "masukan menit: 3\n",
            "masukan detik: 10\n",
            "190 Detik\n"
          ]
        }
      ],
      "source": [
        "def hitung (h,m,s):\n",
        "  konversi = h*3600 + m*60 + s*1\n",
        "  return konversi\n",
        "\n",
        "h = (int(input(\"masukan jam: \")))\n",
        "m = (int(input(\"masukan menit: \")))\n",
        "s = (int(input(\"masukan detik: \")))\n",
        "print(f\"{hitung(h,m,s)} Detik\")"
      ]
    },
    {
      "cell_type": "code",
      "source": [
        "def asli_segitiga(a,b,c):\n",
        "  if a + b > c and a + c > b and b + c > a:\n",
        "    print(\"segitiga\")\n",
        "  else:\n",
        "    print(\"bukan segitiga\")\n",
        "a = (int(input(\"masukan sisi a: \")))\n",
        "b = (int(input(\"masukan sisi b: \")))\n",
        "c = (int(input(\"masukan sisi c: \")))\n",
        "asli_segitiga(a,b,c)"
      ],
      "metadata": {
        "colab": {
          "base_uri": "https://localhost:8080/"
        },
        "id": "I1zt66qnRL9m",
        "outputId": "7937aac4-0979-4338-a5f7-b936a13e6d3a"
      },
      "execution_count": 22,
      "outputs": [
        {
          "output_type": "stream",
          "name": "stdout",
          "text": [
            "masukan sisi a: 0\n",
            "masukan sisi b: 10\n",
            "masukan sisi c: 10\n",
            "bukan segitiga\n"
          ]
        }
      ]
    },
    {
      "cell_type": "code",
      "source": [
        "def hitung_diskon(total, member):\n",
        "    if total > 100000:\n",
        "        if member:\n",
        "            hasil = total * 0.10\n",
        "        else:\n",
        "            hasil = total * 0.05\n",
        "    else:\n",
        "        hasil = 0\n",
        "    return hasil\n",
        "\n",
        "total = int(input(\"Masukkan total belanja: \"))\n",
        "member_input = input(\"Apakah Anda member? (True/False): \")\n",
        "\n",
        "member = member_input.lower() == \"true\"\n",
        "\n",
        "diskon = hitung_diskon(total, member)\n",
        "total_bayar = total - diskon\n",
        "\n",
        "print(\"Total yang harus dibayar:\", total_bayar)"
      ],
      "metadata": {
        "colab": {
          "base_uri": "https://localhost:8080/"
        },
        "id": "bwEeHuJgRS5P",
        "outputId": "3dced4f1-e394-4058-8c2a-b49c7c831bcb"
      },
      "execution_count": 69,
      "outputs": [
        {
          "output_type": "stream",
          "name": "stdout",
          "text": [
            "Masukkan total belanja: 200000\n",
            "Apakah Anda member? (True/False): false\n",
            "Total yang harus dibayar: 190000.0\n"
          ]
        }
      ]
    },
    {
      "cell_type": "code",
      "source": [
        "def fibonacci_sum(n):\n",
        "    a, b, s = 0, 1, 0\n",
        "    for _ in range(n):\n",
        "        s += a\n",
        "        a, b = b, a + b\n",
        "    return s\n",
        "\n",
        "n = int(input(\"Masukkan bilangan bulat N: \"))\n",
        "print(fibonacci_sum(n))"
      ],
      "metadata": {
        "colab": {
          "base_uri": "https://localhost:8080/"
        },
        "id": "NYWPOfkCUd7i",
        "outputId": "9367a6a3-5d82-4268-c1bd-981ca78d6359"
      },
      "execution_count": 61,
      "outputs": [
        {
          "output_type": "stream",
          "name": "stdout",
          "text": [
            "Masukkan bilangan bulat N: 7\n",
            "20\n"
          ]
        }
      ]
    },
    {
      "cell_type": "markdown",
      "source": [],
      "metadata": {
        "id": "CwG0_WkVZGSG"
      }
    },
    {
      "cell_type": "code",
      "source": [
        "import math\n",
        "\n",
        "def permutasi(x, y):\n",
        "    return math.factorial(max(x, y)) // math.factorial(max(x, y) - min(x, y))\n",
        "\n",
        "x = int(input(\"Masukkan bilangan bulat x: \"))\n",
        "y = int(input(\"Masukkan bilangan bulat y: \"))\n",
        "\n",
        "print(f\"{math.factorial(x)} {math.factorial(y)} {permutasi(x, y)}\")"
      ],
      "metadata": {
        "colab": {
          "base_uri": "https://localhost:8080/"
        },
        "id": "7SFxmCDwWnjt",
        "outputId": "3ea0b43a-b7f8-46ce-ff60-7ce2f239bf04"
      },
      "execution_count": 68,
      "outputs": [
        {
          "output_type": "stream",
          "name": "stdout",
          "text": [
            "Masukkan bilangan bulat x: 4\n",
            "Masukkan bilangan bulat y: 2\n",
            "24 2 12\n"
          ]
        }
      ]
    },
    {
      "cell_type": "code",
      "source": [
        "2"
      ],
      "metadata": {
        "id": "Q1aZmwIDYW_6"
      },
      "execution_count": null,
      "outputs": []
    }
  ]
}
