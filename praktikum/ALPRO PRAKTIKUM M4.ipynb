{
 "cells": [
  {
   "cell_type": "code",
   "execution_count": 1,
   "metadata": {},
   "outputs": [
    {
     "name": "stdout",
     "output_type": "stream",
     "text": [
      "makan\n"
     ]
    }
   ],
   "source": [
    "print(\"makan\")"
   ]
  },
  {
   "cell_type": "code",
   "execution_count": 1,
   "metadata": {},
   "outputs": [
    {
     "name": "stdout",
     "output_type": "stream",
     "text": [
      "apel\n"
     ]
    }
   ],
   "source": [
    "buah = [\"apel\", \"mangga\", \"pisang\"]\n",
    "print(buah[0])"
   ]
  },
  {
   "cell_type": "code",
   "execution_count": 3,
   "metadata": {},
   "outputs": [
    {
     "name": "stdout",
     "output_type": "stream",
     "text": [
      "[20, 30, 40]\n"
     ]
    }
   ],
   "source": [
    "angka = [10, 20, 30, 40, 50, 60]\n",
    "print(angka[1:4])"
   ]
  },
  {
   "cell_type": "markdown",
   "metadata": {},
   "source": [
    "Fungsi Built-in dalam List\n",
    "\n",
    "Fungsi\tKegunaan\n",
    "append(x)\tMenambahkan elemen x ke akhir list\n",
    "insert(i, x)\tMenyisipkan elemen x pada indeks i\n",
    "remove(x)\tMenghapus elemen x pertama yang ditemukan\n",
    "pop(i)\tMenghapus elemen pada indeks i dan mengembalikannya\n",
    "sort()\tMengurutkan elemen list\n",
    "reverse()\tMembalik urutan elemen list"
   ]
  },
  {
   "cell_type": "code",
   "execution_count": 4,
   "metadata": {},
   "outputs": [
    {
     "name": "stdout",
     "output_type": "stream",
     "text": [
      "Budi\n"
     ]
    }
   ],
   "source": [
    "mahasiswa = {\"nama\": \"Budi\", \"umur\": 20}\n",
    "print(mahasiswa[\"nama\"])"
   ]
  },
  {
   "cell_type": "code",
   "execution_count": 5,
   "metadata": {},
   "outputs": [],
   "source": [
    "mahasiswa[\"jurusan\"] = \"Informatika\""
   ]
  },
  {
   "cell_type": "code",
   "execution_count": 6,
   "metadata": {},
   "outputs": [
    {
     "name": "stdout",
     "output_type": "stream",
     "text": [
      "Informatika\n"
     ]
    }
   ],
   "source": [
    "print(mahasiswa[\"jurusan\"])"
   ]
  },
  {
   "cell_type": "markdown",
   "metadata": {},
   "source": [
    "Fungsi\tKegunaan\n",
    "keys()\tMengembalikan semua key dalam dictionary\n",
    "values()\tMengembalikan semua nilai dalam dictionary\n",
    "items()\tMengembalikan semua pasangan key-value\n",
    "pop(x)\tMenghapus item dengan key x"
   ]
  },
  {
   "cell_type": "code",
   "execution_count": 7,
   "metadata": {},
   "outputs": [],
   "source": [
    "angka = {1, 2, 3}\n",
    "angka.add(4)"
   ]
  },
  {
   "cell_type": "code",
   "execution_count": 8,
   "metadata": {},
   "outputs": [
    {
     "name": "stdout",
     "output_type": "stream",
     "text": [
      "{1, 2, 3, 4}\n"
     ]
    }
   ],
   "source": [
    "print(angka)"
   ]
  },
  {
   "cell_type": "code",
   "execution_count": 9,
   "metadata": {},
   "outputs": [
    {
     "name": "stdout",
     "output_type": "stream",
     "text": [
      "{1, 2, 3, 4, 5}\n"
     ]
    }
   ],
   "source": [
    "a = {1, 2, 3}\n",
    "b = {3, 4, 5}\n",
    "print(a.union(b))"
   ]
  },
  {
   "cell_type": "code",
   "execution_count": 18,
   "metadata": {},
   "outputs": [
    {
     "data": {
      "text/plain": [
       "'c'"
      ]
     },
     "execution_count": 18,
     "metadata": {},
     "output_type": "execute_result"
    }
   ],
   "source": [
    "x = [\"a\", \"b\", \"c\", \"d\", \"e\", \"f\", \"g\", \"h\", \"i\"]\n",
    "x[2]"
   ]
  },
  {
   "cell_type": "code",
   "execution_count": 19,
   "metadata": {},
   "outputs": [
    {
     "data": {
      "text/plain": [
       "['a', 'b', 'c', 'd', 'e', 'f', 'g', 'h', 'i', 'j']"
      ]
     },
     "execution_count": 19,
     "metadata": {},
     "output_type": "execute_result"
    }
   ],
   "source": [
    "x.append(\"j\")\n",
    "x"
   ]
  },
  {
   "cell_type": "code",
   "execution_count": 20,
   "metadata": {},
   "outputs": [
    {
     "data": {
      "text/plain": [
       "['a', 'b', 'd', 'c', 'd', 'e', 'f', 'g', 'h', 'i', 'j']"
      ]
     },
     "execution_count": 20,
     "metadata": {},
     "output_type": "execute_result"
    }
   ],
   "source": [
    "x.insert(2, \"d\")\n",
    "x"
   ]
  },
  {
   "cell_type": "code",
   "execution_count": 24,
   "metadata": {},
   "outputs": [
    {
     "data": {
      "text/plain": [
       "['a', 'b', 'e', 'f', 'g', 'h', 'i', 'j']"
      ]
     },
     "execution_count": 24,
     "metadata": {},
     "output_type": "execute_result"
    }
   ],
   "source": [
    "x"
   ]
  },
  {
   "cell_type": "code",
   "execution_count": 29,
   "metadata": {},
   "outputs": [
    {
     "data": {
      "text/plain": [
       "['a', 'b', 'c', 'c', 'e', 'f', 'g', 'h', 'i', 'j']"
      ]
     },
     "execution_count": 29,
     "metadata": {},
     "output_type": "execute_result"
    }
   ],
   "source": [
    "x.insert(2, \"c\")\n",
    "x"
   ]
  },
  {
   "cell_type": "code",
   "execution_count": 30,
   "metadata": {},
   "outputs": [
    {
     "data": {
      "text/plain": [
       "['a', 'b', 'c', 'e', 'f', 'g', 'h', 'i', 'j']"
      ]
     },
     "execution_count": 30,
     "metadata": {},
     "output_type": "execute_result"
    }
   ],
   "source": [
    "x.pop(2)\n",
    "x"
   ]
  },
  {
   "cell_type": "code",
   "execution_count": 31,
   "metadata": {},
   "outputs": [
    {
     "data": {
      "text/plain": [
       "['a', 'b', 'c', 'd', 'e', 'f', 'g', 'h', 'i', 'j']"
      ]
     },
     "execution_count": 31,
     "metadata": {},
     "output_type": "execute_result"
    }
   ],
   "source": [
    "x.insert(3, \"d\")\n",
    "x"
   ]
  },
  {
   "cell_type": "code",
   "execution_count": 34,
   "metadata": {},
   "outputs": [
    {
     "data": {
      "text/plain": [
       "['j', 'i', 'h', 'g', 'f', 'e', 'd', 'c', 'b', 'a']"
      ]
     },
     "execution_count": 34,
     "metadata": {},
     "output_type": "execute_result"
    }
   ],
   "source": [
    "x.reverse()\n",
    "x"
   ]
  },
  {
   "cell_type": "markdown",
   "metadata": {},
   "source": [
    "Data Mahasiswa: Budi adalah seorang mahasiswa yang ingin menyimpan data teman-temannya dalam bentuk dictionary. Dia ingin menambahkan nama, umur, dan jurusan teman-temannya, serta mengupdate data jika ada perubahan."
   ]
  },
  {
   "cell_type": "code",
   "execution_count": 35,
   "metadata": {},
   "outputs": [],
   "source": [
    "data_mahasiswa = {\n",
    "    \"Budi\": {\"umur\": 20, \"jurusan\": \"Informatika\"}, \n",
    "    \"Andi\": {\"umur\": 21, \"jurusan\": \"Elektro\"}, \n",
    "    \"Susi\": {\"umur\": 19, \"jurusan\": \"Biologi\"}\n",
    "}"
   ]
  },
  {
   "cell_type": "code",
   "execution_count": 37,
   "metadata": {},
   "outputs": [
    {
     "data": {
      "text/plain": [
       "{'umur': 20, 'jurusan': 'Informatika'}"
      ]
     },
     "execution_count": 37,
     "metadata": {},
     "output_type": "execute_result"
    }
   ],
   "source": [
    "data_mahasiswa[\"Budi\"]"
   ]
  },
  {
   "cell_type": "code",
   "execution_count": 38,
   "metadata": {},
   "outputs": [
    {
     "data": {
      "text/plain": [
       "'Elektro'"
      ]
     },
     "execution_count": 38,
     "metadata": {},
     "output_type": "execute_result"
    }
   ],
   "source": [
    "data_mahasiswa[\"Andi\"][\"jurusan\"]"
   ]
  },
  {
   "cell_type": "code",
   "execution_count": 39,
   "metadata": {},
   "outputs": [
    {
     "data": {
      "text/plain": [
       "dict_keys(['Budi', 'Andi', 'Susi'])"
      ]
     },
     "execution_count": 39,
     "metadata": {},
     "output_type": "execute_result"
    }
   ],
   "source": [
    "data_mahasiswa.keys()"
   ]
  },
  {
   "cell_type": "code",
   "execution_count": 40,
   "metadata": {},
   "outputs": [
    {
     "data": {
      "text/plain": [
       "dict_keys(['umur', 'jurusan'])"
      ]
     },
     "execution_count": 40,
     "metadata": {},
     "output_type": "execute_result"
    }
   ],
   "source": [
    "data_mahasiswa[\"Andi\"].keys()"
   ]
  },
  {
   "cell_type": "code",
   "execution_count": 41,
   "metadata": {},
   "outputs": [],
   "source": [
    "data_mahasiswa[\"Denis\"] = {\"umur\": 20, \"jurusan\": \"Matematika\"}"
   ]
  },
  {
   "cell_type": "code",
   "execution_count": 42,
   "metadata": {},
   "outputs": [
    {
     "data": {
      "text/plain": [
       "{'umur': 20, 'jurusan': 'Matematika'}"
      ]
     },
     "execution_count": 42,
     "metadata": {},
     "output_type": "execute_result"
    }
   ],
   "source": [
    "data_mahasiswa[\"Denis\"]"
   ]
  },
  {
   "cell_type": "code",
   "execution_count": 46,
   "metadata": {},
   "outputs": [
    {
     "data": {
      "text/plain": [
       "{'Budi': {'umur': 20, 'jurusan': 'Informatika'},\n",
       " 'Andi': {'umur': 21, 'jurusan': 'Elektro'},\n",
       " 'Susi': {'umur': 19, 'jurusan': 'Biologi'},\n",
       " 'Denis': {'umur': 20, 'jurusan': 'Matematika'},\n",
       " 'Ahmad': {'umur': 20, 'jurusan': 'Kimia'}}"
      ]
     },
     "execution_count": 46,
     "metadata": {},
     "output_type": "execute_result"
    }
   ],
   "source": [
    "data_mahasiswa[\"Ahmad\"] = {\"umur\" : 20,\"jurusan\": \"Kimia\"} \n",
    "data_mahasiswa"
   ]
  },
  {
   "cell_type": "code",
   "execution_count": 47,
   "metadata": {},
   "outputs": [
    {
     "data": {
      "text/plain": [
       "{'Budi': {'umur': 20, 'jurusan': 'Informatika'},\n",
       " 'Andi': {'umur': 21, 'jurusan': 'Elektro'},\n",
       " 'Susi': {'umur': 19, 'jurusan': 'Biologi'},\n",
       " 'Denis': {'umur': 20, 'jurusan': 'Matematika'},\n",
       " 'Ahmad': {'jurusan': 'Kimia'}}"
      ]
     },
     "execution_count": 47,
     "metadata": {},
     "output_type": "execute_result"
    }
   ],
   "source": [
    "data_mahasiswa[\"Ahmad\"].pop(\"umur\")\n",
    "data_mahasiswa"
   ]
  },
  {
   "cell_type": "code",
   "execution_count": 48,
   "metadata": {},
   "outputs": [
    {
     "data": {
      "text/plain": [
       "{'Budi': {'umur': 20, 'jurusan': 'Informatika'},\n",
       " 'Andi': {'umur': 21, 'jurusan': 'Elektro'},\n",
       " 'Susi': {'umur': 19, 'jurusan': 'Biologi'},\n",
       " 'Denis': {'umur': 20, 'jurusan': 'Matematika'},\n",
       " 'Ahmad': {'jurusan': 'Kimia', 'umur': 21}}"
      ]
     },
     "execution_count": 48,
     "metadata": {},
     "output_type": "execute_result"
    }
   ],
   "source": [
    "data_mahasiswa[\"Ahmad\"][\"umur\"] = 21\n",
    "data_mahasiswa"
   ]
  },
  {
   "cell_type": "code",
   "execution_count": 1,
   "metadata": {},
   "outputs": [],
   "source": [
    "import numpy as np\n",
    "\n",
    "suhu = np.array([30, 28, 31, 29, 33])"
   ]
  },
  {
   "cell_type": "markdown",
   "metadata": {},
   "source": [
    "Pengolahan Nilai Siswa: Seorang guru memiliki daftar nilai siswa dalam list. Guru tersebut ingin mencari nilai rata-rata, nilai tertinggi, dan urutan nilai dari terkecil ke terbesar."
   ]
  },
  {
   "cell_type": "code",
   "execution_count": 6,
   "metadata": {},
   "outputs": [
    {
     "name": "stdout",
     "output_type": "stream",
     "text": [
      "Rata-rata nilai siswa: 86.6\n"
     ]
    },
    {
     "ename": "AttributeError",
     "evalue": "'list' object has no attribute 'max'",
     "output_type": "error",
     "traceback": [
      "\u001b[1;31m---------------------------------------------------------------------------\u001b[0m",
      "\u001b[1;31mAttributeError\u001b[0m                            Traceback (most recent call last)",
      "Cell \u001b[1;32mIn[6], line 6\u001b[0m\n\u001b[0;32m      3\u001b[0m rata_rata \u001b[38;5;241m=\u001b[39m \u001b[38;5;28msum\u001b[39m(nilai_siswa) \u001b[38;5;241m/\u001b[39m \u001b[38;5;28mlen\u001b[39m(nilai_siswa)\n\u001b[0;32m      4\u001b[0m \u001b[38;5;28mprint\u001b[39m(\u001b[38;5;124m\"\u001b[39m\u001b[38;5;124mRata-rata nilai siswa:\u001b[39m\u001b[38;5;124m\"\u001b[39m, rata_rata)\n\u001b[1;32m----> 6\u001b[0m \u001b[38;5;28mprint\u001b[39m(\u001b[38;5;124m\"\u001b[39m\u001b[38;5;124mNilai tertinggi:\u001b[39m\u001b[38;5;124m\"\u001b[39m, \u001b[43mnilai_siswa\u001b[49m\u001b[38;5;241;43m.\u001b[39;49m\u001b[43mmax\u001b[49m())\n",
      "\u001b[1;31mAttributeError\u001b[0m: 'list' object has no attribute 'max'"
     ]
    }
   ],
   "source": [
    "import numpy as np\n",
    "nilai_siswa = ([85, 90, 78, 92, 88])\n",
    "rata_rata = sum(nilai_siswa) / len(nilai_siswa)\n",
    "print(\"Rata-rata nilai siswa:\", rata_rata)\n",
    "\n",
    "print(\"Nilai tertinggi:\", nilai_siswa.max())"
   ]
  },
  {
   "cell_type": "code",
   "execution_count": null,
   "metadata": {},
   "outputs": [],
   "source": []
  }
 ],
 "metadata": {
  "kernelspec": {
   "display_name": "Python 3",
   "language": "python",
   "name": "python3"
  },
  "language_info": {
   "codemirror_mode": {
    "name": "ipython",
    "version": 3
   },
   "file_extension": ".py",
   "mimetype": "text/x-python",
   "name": "python",
   "nbconvert_exporter": "python",
   "pygments_lexer": "ipython3",
   "version": "3.11.9"
  }
 },
 "nbformat": 4,
 "nbformat_minor": 2
}
