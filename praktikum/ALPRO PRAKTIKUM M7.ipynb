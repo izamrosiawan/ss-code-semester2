{
 "cells": [
  {
   "cell_type": "code",
   "execution_count": 5,
   "metadata": {},
   "outputs": [],
   "source": [
    "class Mahasiswa:\n",
    "    def __init__(self, nama, nim, jurusan):\n",
    "        self.nama = nama\n",
    "        self.nim = nim\n",
    "        self.jurusan = jurusan\n",
    "\n",
    "    def tampilkan(self):\n",
    "        print(\"Nama:\", self.nama)\n",
    "        print(\"NIM:\", self.nim)\n",
    "        print(\"Jurusan:\", self.jurusan)\n"
   ]
  },
  {
   "cell_type": "code",
   "execution_count": 6,
   "metadata": {},
   "outputs": [
    {
     "name": "stdout",
     "output_type": "stream",
     "text": [
      "Nama: John Doe\n",
      "NIM: 123456789\n",
      "Jurusan: Teknik Informatika\n"
     ]
    }
   ],
   "source": [
    "mhs = Mahasiswa(\"John Doe\", \"123456789\", \"Teknik Informatika\")\n",
    "mhs.tampilkan()"
   ]
  },
  {
   "cell_type": "code",
   "execution_count": 7,
   "metadata": {},
   "outputs": [
    {
     "name": "stdout",
     "output_type": "stream",
     "text": [
      "Nama: Jane Smith\n",
      "NIM: 987654321\n",
      "Jurusan: Sistem Informasi\n"
     ]
    }
   ],
   "source": [
    "mhs2 = Mahasiswa(\"Jane Smith\", \"987654321\", \"Sistem Informasi\")\n",
    "mhs2.tampilkan()"
   ]
  },
  {
   "cell_type": "code",
   "execution_count": 9,
   "metadata": {},
   "outputs": [],
   "source": [
    "class Mobil:\n",
    "    def __init__(self, merk, warna, transmisi):\n",
    "        self.merk = merk\n",
    "        self.warna = warna\n",
    "        self.transmisi = transmisi\n",
    "\n",
    "    def tampilkan2(self):\n",
    "        print(\"Merk:\", self.merk)\n",
    "        print(\"Warna:\", self.warna)\n",
    "        print(\"Transmisi:\", self.transmisi)\n",
    "        \n",
    "    def nyalakan(self):\n",
    "        print(f\"Mobil {self.merk} menyala\")\n",
    "    \n",
    "    def matikan(self):\n",
    "        print(f\"Mobil {self.merk} mati\")\n",
    "\n",
    "    def jalankan(self):\n",
    "        print(f\"Mobil {self.merk} berjalan\")\n",
    "\n",
    "    def berhenti(self):\n",
    "        print(f\"Mobil {self.merk} berhenti\")\n"
   ]
  },
  {
   "cell_type": "code",
   "execution_count": 11,
   "metadata": {},
   "outputs": [
    {
     "name": "stdout",
     "output_type": "stream",
     "text": [
      "Merk: Toyota\n",
      "Warna: Merah\n",
      "Transmisi: Manual\n"
     ]
    }
   ],
   "source": [
    "mbl = Mobil(\"Toyota\", \"Merah\", \"Manual\")\n",
    "mbl.tampilkan2()"
   ]
  },
  {
   "cell_type": "code",
   "execution_count": 12,
   "metadata": {},
   "outputs": [
    {
     "name": "stdout",
     "output_type": "stream",
     "text": [
      "Mobil Toyota menyala\n"
     ]
    }
   ],
   "source": [
    "mbl.nyalakan()\n"
   ]
  },
  {
   "cell_type": "code",
   "execution_count": 19,
   "metadata": {},
   "outputs": [],
   "source": [
    "class sapi:\n",
    "    def __init__(self, nama, warna, kelamin, usia, berat):\n",
    "        self.nama = nama\n",
    "        self.warna = warna\n",
    "        self.kelamin = kelamin\n",
    "        self.usia = usia\n",
    "        self.berat = berat\n",
    "\n",
    "    def tampilkan3(self):\n",
    "        print(\"Nama:\", self.nama)\n",
    "        print(\"Warna:\", self.warna)\n",
    "        print(\"Kelamin:\", self.kelamin)\n",
    "        print(\"Usia:\", self.usia)\n",
    "        print(\"Berat:\", self.berat)\n",
    "\n",
    "    def makan(self):\n",
    "        print(f\"Sapi {self.nama} sedang makan\")\n",
    "\n",
    "    def tidur(self):\n",
    "        print(f\"Sapi {self.nama} sedang tidur\")\n",
    "\n",
    "    def berjalan(self):\n",
    "        print(f\"Sapi {self.nama} berjalan\")"
   ]
  },
  {
   "cell_type": "code",
   "execution_count": 25,
   "metadata": {},
   "outputs": [
    {
     "name": "stdout",
     "output_type": "stream",
     "text": [
      "Nama: Tomi\n",
      "Warna: Putih\n",
      "Kelamin: Jantan\n",
      "Usia: 2\n",
      "Berat: 300\n"
     ]
    }
   ],
   "source": [
    "sapi1 = sapi(\"Tomi\", \"Putih\", \"Jantan\", 2, 300)\n",
    "sapi1.tampilkan3()"
   ]
  },
  {
   "cell_type": "code",
   "execution_count": 26,
   "metadata": {},
   "outputs": [
    {
     "name": "stdout",
     "output_type": "stream",
     "text": [
      "Sapi Tomi sedang tidur\n",
      "Sapi Tomi sedang makan\n",
      "Sapi Tomi berjalan\n"
     ]
    }
   ],
   "source": [
    "sapi1.tidur()\n",
    "sapi1.makan()\n",
    "sapi1.berjalan()"
   ]
  },
  {
   "cell_type": "code",
   "execution_count": 28,
   "metadata": {},
   "outputs": [
    {
     "name": "stdout",
     "output_type": "stream",
     "text": [
      "Array: [1, 2, 3, 4, 5]\n",
      "Array terbalik: [5, 4, 3, 2, 1]\n",
      "Array bukan palindrom\n"
     ]
    }
   ],
   "source": [
    "class ArrayHandler:\n",
    "    def __init__(self, max_size=256):\n",
    "        self.max_size = max_size\n",
    "        self.arr = []\n",
    "\n",
    "    def isi_array(self, data):\n",
    "        if data > self.max_size:\n",
    "            print(\"Array penuh\")\n",
    "            return\n",
    "        \n",
    "        self.arr = []\n",
    "        for i in range(data):\n",
    "            angka = int(input(f\"Masukkan angka ke-{i+1}: \"))\n",
    "            self.arr.append(angka)\n",
    "\n",
    "    def tampilkan_array(self):\n",
    "        print(\"Array:\", self.arr)\n",
    "\n",
    "    def reverse_array(self):\n",
    "        reversed_arr = self.arr[::-1]\n",
    "        print(\"Array terbalik:\", reversed_arr)\n",
    "        return reversed_arr\n",
    "    \n",
    "    def cek_palindrom(self):\n",
    "        if self.arr == self.arr[::-1]:\n",
    "            print(\"Array adalah palindrom\")\n",
    "        else:\n",
    "            print(\"Array bukan palindrom\")\n",
    "        \n",
    "    \n",
    "handler = ArrayHandler()\n",
    "handler.isi_array(5)\n",
    "handler.tampilkan_array()\n",
    "handler.reverse_array()\n",
    "handler.cek_palindrom()\n"
   ]
  },
  {
   "cell_type": "code",
   "execution_count": null,
   "metadata": {},
   "outputs": [],
   "source": []
  }
 ],
 "metadata": {
  "kernelspec": {
   "display_name": "Python 3",
   "language": "python",
   "name": "python3"
  },
  "language_info": {
   "codemirror_mode": {
    "name": "ipython",
    "version": 3
   },
   "file_extension": ".py",
   "mimetype": "text/x-python",
   "name": "python",
   "nbconvert_exporter": "python",
   "pygments_lexer": "ipython3",
   "version": "3.11.9"
  }
 },
 "nbformat": 4,
 "nbformat_minor": 2
}
