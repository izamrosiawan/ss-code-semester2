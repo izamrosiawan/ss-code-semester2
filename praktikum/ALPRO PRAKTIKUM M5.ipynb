{
 "cells": [
  {
   "cell_type": "code",
   "execution_count": 1,
   "metadata": {},
   "outputs": [
    {
     "name": "stdout",
     "output_type": "stream",
     "text": [
      "Makan\n"
     ]
    }
   ],
   "source": [
    "print(\"Makan\")"
   ]
  },
  {
   "cell_type": "markdown",
   "metadata": {},
   "source": [
    "Soal 1. Lengkapi program untuk membalikkan sebuah string \n",
    "yang memuat rekursif didalamnya \n",
    "Masukan: Sebuah string SSS. \n",
    "Keluaran: String yang telah dibalik."
   ]
  },
  {
   "cell_type": "code",
   "execution_count": null,
   "metadata": {},
   "outputs": [
    {
     "name": "stdout",
     "output_type": "stream",
     "text": [
      "olleH\n"
     ]
    }
   ],
   "source": [
    "def balik_string(S):\n",
    "    if len(S) == 1:\n",
    "        return S\n",
    "    else:\n",
    "        return balik_string(S[1:]) + S[0]\n",
    "print(balik_string(\"Hello\"))"
   ]
  },
  {
   "cell_type": "code",
   "execution_count": 15,
   "metadata": {},
   "outputs": [
    {
     "name": "stdout",
     "output_type": "stream",
     "text": [
      "mokleT\n"
     ]
    }
   ],
   "source": [
    "def balik_string(S):\n",
    "    if len(S) == 1:\n",
    "        return S\n",
    "    else:\n",
    "        return S[-1] + balik_string(S[:-1])\n",
    "print(balik_string(\"Telkom\"))"
   ]
  },
  {
   "cell_type": "markdown",
   "metadata": {},
   "source": [
    "Soal 2. Lengkapi program disamping untuk mempelajari \n",
    "kombinasi dan permutasi.  \n",
    " \n",
    "Masukan terdiri dari empat buah bilangan asli 𝑎, 𝑏, 𝑐, dan 𝑑 \n",
    "yang dipisahkan oleh spasi, di mana 𝑎≥ 𝑐 dan 𝑏≥ 𝑑. \n",
    "Keluaran terdiri dari dua baris, di mana baris pertama adalah \n",
    "hasil permutasi dan kombinasi 𝒂 terhadap 𝑐, sedangkan baris \n",
    "kedua adalah hasil permutasi dan kombinasi 𝑏 terhadap 𝑑. \n",
    " \n",
    "Permutasi (P) dan kombinasi (C) dari 𝑛 terhadap 𝑟 di mana \n",
    "(𝑛≥𝑟) dapat dihitung dengan menggunakan persamaan \n",
    "berikut 𝑃(𝑛,𝑟)= 𝑛!\n",
    " (𝑛−𝑟)!\n",
    "  sedangkan 𝐶(𝑛,𝑟)= 𝑛!\n",
    " 𝑟!(𝑛−𝑟)!"
   ]
  },
  {
   "cell_type": "code",
   "execution_count": null,
   "metadata": {},
   "outputs": [
    {
     "name": "stdout",
     "output_type": "stream",
     "text": [
      "60 10\n",
      "3628800 1\n"
     ]
    }
   ],
   "source": [
    "def faktorial(n: int)->int:\n",
    "    if n == 0:\n",
    "        return 1\n",
    "    else:\n",
    "        return n * faktorial(n-1)\n",
    "    \n",
    "def permutasi(n: int, r: int)->int:\n",
    "    return faktorial(n) // faktorial(n-r)\n",
    "\n",
    "def kombinasi(n: int, r: int)->int:\n",
    "    return faktorial(n) // (faktorial(r) * faktorial(n-r))\n",
    "    \n",
    "def main():\n",
    "    a, b, c, d = map(int, input().split())\n",
    "    print(permutasi(a, c), kombinasi(a, c))\n",
    "    print(permutasi(b, d), kombinasi(b, d))"
   ]
  },
  {
   "cell_type": "markdown",
   "metadata": {},
   "source": [
    "Soal 3. Lengkapi program disamping untuk menghitung fungsi \n",
    "komposisi. \n",
    "Masukan terdiri dari tiga bilangan bulat 𝑎, 𝑏 dan 𝑐 yang \n",
    "dipisahkan oleh spasi. \n",
    "Keluaran terdiri dari tiga baris, di mana baris pertama adalah \n",
    "(𝑓𝑜𝑔𝑜ℎ)(𝑎), baris kedua (𝑔𝑜ℎ𝑜𝑓)(𝑏), dan baris ketiga \n",
    "adalah (ℎ𝑜𝑓𝑜𝑔)(𝑐)! dimana 𝑓 (𝑥) = 𝑥2 ,  𝑔 (𝑥)= 𝑥−2 \n",
    "dan ℎ (𝑥)= 𝑥+1. Fungsi komposisi (𝑓𝑜𝑔𝑜ℎ)(𝑥) artinya \n",
    "adalah 𝑓(𝑔(ℎ(𝑥))). Tuliskan 𝑓(𝑥), 𝑔(𝑥) dan ℎ(𝑥) dalam \n",
    "bentuk function. "
   ]
  },
  {
   "cell_type": "code",
   "execution_count": 1,
   "metadata": {},
   "outputs": [],
   "source": [
    "def f(x):\n",
    "    return x**2\n",
    "def fogoh(x): \n",
    "    return f(g(h(x)))\n",
    "\n",
    "def g(x):\n",
    "    return x-2\n",
    "def gohof(x):\n",
    "    return g(h(f(x)))\n",
    "def h(x):\n",
    "    return x+1\n",
    "def hofog(x):\n",
    "    return h(f(g(x)))\n",
    "\n",
    "def main():\n",
    "    a, b, c = map(int, input().split())\n",
    "    print(f(g(h(a))))\n",
    "    print(f(g(b)))\n",
    "    print(f(c))\n"
   ]
  },
  {
   "cell_type": "code",
   "execution_count": 2,
   "metadata": {},
   "outputs": [
    {
     "name": "stdout",
     "output_type": "stream",
     "text": [
      "36\n",
      "0\n",
      "100\n"
     ]
    }
   ],
   "source": [
    "main()"
   ]
  },
  {
   "cell_type": "markdown",
   "metadata": {},
   "source": [
    "Soal 4. Lengkapi program untuk menentukan posisi sebuah \n",
    "titik sembarang (𝑥, 𝑦) berdasarkan dua lingkaran dimana \n",
    "masing-masing lingkaran didefinisikan dengan koordinat titik \n",
    "pusat (𝑐𝑥,𝑐𝑦) dengan radius 𝑟.  \n",
    "Masukan terdiri dari tiga baris. Baris pertama dan kedua \n",
    "adalah koordinat titik pusat dan radius dari lingkaran 1 dan \n",
    "lingkaran 2, sedangkan baris ketiga adalah koordinat titik \n",
    "sembarang. Asumsi sumbu x dan y dari semua titik dan juga \n",
    "radius direpresentasikan dengan bilangan bulat. \n",
    "Keluaran berupa string yang menyatakan posisi titik \"Titik di \n",
    "dalam lingkaran 1 dan 2\", \"Titik di dalam lingkaran 1\", \"Titik \n",
    "di dalam lingkaran 2\", atau \"Titik di luar lingkaran 1 dan 2\". \n",
    " \n",
    "Fungsi untuk menghitung jarak titik (a, b) dan (c, d) dimana \n",
    "rumus jarak adalah: \n",
    "�\n",
    "�𝑎𝑟𝑎𝑘 =√(𝑎−𝑐)2+(𝑏−𝑑)2 \n",
    "dan juga fungsi untuk menentukan posisi sebuah titik \n",
    "sembarang berada di dalam suatu lingkaran atau tidak. "
   ]
  },
  {
   "cell_type": "code",
   "execution_count": 5,
   "metadata": {},
   "outputs": [
    {
     "ename": "TypeError",
     "evalue": "jarak() takes 4 positional arguments but 5 were given",
     "output_type": "error",
     "traceback": [
      "\u001b[1;31m---------------------------------------------------------------------------\u001b[0m",
      "\u001b[1;31mTypeError\u001b[0m                                 Traceback (most recent call last)",
      "Cell \u001b[1;32mIn[5], line 22\u001b[0m\n\u001b[0;32m     19\u001b[0m     \u001b[38;5;28;01melse\u001b[39;00m:\n\u001b[0;32m     20\u001b[0m         \u001b[38;5;28mprint\u001b[39m(\u001b[38;5;124m\"\u001b[39m\u001b[38;5;124mTitik di luar lingkaran 1 dan 2\u001b[39m\u001b[38;5;124m\"\u001b[39m)\n\u001b[1;32m---> 22\u001b[0m \u001b[43mmain\u001b[49m\u001b[43m(\u001b[49m\u001b[43m)\u001b[49m\n",
      "Cell \u001b[1;32mIn[5], line 13\u001b[0m, in \u001b[0;36mmain\u001b[1;34m()\u001b[0m\n\u001b[0;32m     11\u001b[0m x2,y2,r2 \u001b[38;5;241m=\u001b[39m \u001b[38;5;28mmap\u001b[39m(\u001b[38;5;28mint\u001b[39m,\u001b[38;5;28minput\u001b[39m()\u001b[38;5;241m.\u001b[39msplit())\n\u001b[0;32m     12\u001b[0m xt,yt \u001b[38;5;241m=\u001b[39m \u001b[38;5;28mmap\u001b[39m(\u001b[38;5;28mint\u001b[39m,\u001b[38;5;28minput\u001b[39m()\u001b[38;5;241m.\u001b[39msplit())\n\u001b[1;32m---> 13\u001b[0m \u001b[38;5;28;01mif\u001b[39;00m \u001b[43mdalam_lingkaran\u001b[49m\u001b[43m(\u001b[49m\u001b[43mx1\u001b[49m\u001b[43m,\u001b[49m\u001b[43my1\u001b[49m\u001b[43m,\u001b[49m\u001b[43mr1\u001b[49m\u001b[43m,\u001b[49m\u001b[43mxt\u001b[49m\u001b[43m,\u001b[49m\u001b[43myt\u001b[49m\u001b[43m)\u001b[49m \u001b[38;5;129;01mand\u001b[39;00m dalam_lingkaran(x2,y2,r2,xt,yt):\n\u001b[0;32m     14\u001b[0m     \u001b[38;5;28mprint\u001b[39m(\u001b[38;5;124m\"\u001b[39m\u001b[38;5;124mTitik di dalam lingkaran 1 dan 2\u001b[39m\u001b[38;5;124m\"\u001b[39m)\n\u001b[0;32m     15\u001b[0m \u001b[38;5;28;01melif\u001b[39;00m dalam_lingkaran(x1,y1,r1,xt,yt):\n",
      "Cell \u001b[1;32mIn[5], line 7\u001b[0m, in \u001b[0;36mdalam_lingkaran\u001b[1;34m(x, y, r, xt, yt)\u001b[0m\n\u001b[0;32m      6\u001b[0m \u001b[38;5;28;01mdef\u001b[39;00m \u001b[38;5;21mdalam_lingkaran\u001b[39m(x,y,r,xt,yt):\n\u001b[1;32m----> 7\u001b[0m     \u001b[38;5;28;01mreturn\u001b[39;00m \u001b[43mjarak\u001b[49m\u001b[43m(\u001b[49m\u001b[43mx\u001b[49m\u001b[43m,\u001b[49m\u001b[43my\u001b[49m\u001b[43m,\u001b[49m\u001b[43mr\u001b[49m\u001b[43m,\u001b[49m\u001b[43mxt\u001b[49m\u001b[43m,\u001b[49m\u001b[43myt\u001b[49m\u001b[43m)\u001b[49m \u001b[38;5;241m<\u001b[39m\u001b[38;5;241m=\u001b[39m r\n",
      "\u001b[1;31mTypeError\u001b[0m: jarak() takes 4 positional arguments but 5 were given"
     ]
    }
   ],
   "source": [
    "import numpy as np\n",
    "def jarak(a,b,c,d):\n",
    "    jarak = np.sqrt((a-c)**2 + (b-d)**2)**0.5\n",
    "    return jarak\n",
    "\n",
    "def dalam_lingkaran(x,y,r,xt,yt):\n",
    "    return jarak(x,y,r,xt,yt) <= r\n",
    "\n",
    "def main():\n",
    "    x1,y1,r1 = map(int,input().split())\n",
    "    x2,y2,r2 = map(int,input().split())\n",
    "    xt,yt = map(int,input().split())\n",
    "    if dalam_lingkaran(x1,y1,r1,xt,yt) and dalam_lingkaran(x2,y2,r2,xt,yt):\n",
    "        print(\"Titik di dalam lingkaran 1 dan 2\")\n",
    "    elif dalam_lingkaran(x1,y1,r1,xt,yt):\n",
    "        print(\"Titik di dalam lingkaran 1\")\n",
    "    elif dalam_lingkaran(x2,y2,r2,xt,yt):\n",
    "        print(\"Titik di dalam lingkaran 2\")\n",
    "    else:\n",
    "        print(\"Titik di luar lingkaran 1 dan 2\")\n",
    "\n",
    "main()\n"
   ]
  },
  {
   "cell_type": "code",
   "execution_count": null,
   "metadata": {},
   "outputs": [],
   "source": []
  }
 ],
 "metadata": {
  "kernelspec": {
   "display_name": "Python 3",
   "language": "python",
   "name": "python3"
  },
  "language_info": {
   "codemirror_mode": {
    "name": "ipython",
    "version": 3
   },
   "file_extension": ".py",
   "mimetype": "text/x-python",
   "name": "python",
   "nbconvert_exporter": "python",
   "pygments_lexer": "ipython3",
   "version": "3.11.9"
  }
 },
 "nbformat": 4,
 "nbformat_minor": 2
}
