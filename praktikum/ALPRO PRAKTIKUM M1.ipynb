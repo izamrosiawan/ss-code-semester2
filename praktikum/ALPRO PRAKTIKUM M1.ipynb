{
 "cells": [
  {
   "cell_type": "code",
   "execution_count": 1,
   "metadata": {},
   "outputs": [
    {
     "name": "stdout",
     "output_type": "stream",
     "text": [
      "a = 10 -> 10\n",
      "a += 5 -> 15\n",
      "a -= 3 -> 12\n",
      "a *= 6 -> 72\n",
      "a /= 8 -> 9.0\n",
      "a %= 9 -> 0\n",
      "a //= 6 -> 0\n",
      "a **= 1 -> 0\n"
     ]
    }
   ],
   "source": [
    "a = 10\n",
    "print(\"a = 10 ->\", a)\n",
    "\n",
    "a += 5\n",
    "print(\"a += 5 ->\", a)\n",
    "\n",
    "a -= 3\n",
    "print(\"a -= 3 ->\", a)\n",
    "\n",
    "a *= 6\n",
    "print(\"a *= 6 ->\", a)\n",
    "\n",
    "a /= 8\n",
    "print(\"a /= 8 ->\", a)\n",
    "\n",
    "a = int(a)\n",
    "\n",
    "a %= 9\n",
    "print(\"a %= 9 ->\", a)\n",
    "\n",
    "a //= 6\n",
    "print(\"a //= 6 ->\", a)\n",
    "\n",
    "a **= 1\n",
    "print(\"a **= 1 ->\", a)\n"
   ]
  },
  {
   "cell_type": "code",
   "execution_count": 4,
   "metadata": {},
   "outputs": [
    {
     "name": "stdout",
     "output_type": "stream",
     "text": [
      "Jari-jari Lingkaran:  32\n",
      "Luas Lingkaran:  3216.990877275948\n",
      "Keliling Lingkaran:  201.06192982974676\n"
     ]
    }
   ],
   "source": [
    "import math\n",
    "\n",
    "jari_jari = int(input(\"Masukkan Jari-jari Lingkaran: \"))\n",
    "print(\"Jari-jari Lingkaran: \", jari_jari)\n",
    "\n",
    "luas = math.pi * jari_jari ** 2\n",
    "keliling = 2 * math.pi * jari_jari\n",
    "\n",
    "print(\"Luas Lingkaran: \", luas)\n",
    "print(\"Keliling Lingkaran: \", keliling)\n",
    "\n"
   ]
  },
  {
   "cell_type": "code",
   "execution_count": 1,
   "metadata": {},
   "outputs": [
    {
     "name": "stdout",
     "output_type": "stream",
     "text": [
      "Jari-jari Bola:  7\n",
      "Jari-jari Bola:  1436.7550402417319\n"
     ]
    }
   ],
   "source": [
    "import math\n",
    "\n",
    "jari_jari = int(input(\"Masukkan Jari-jari Bola : \"))\n",
    "print(\"Jari-jari Bola: \", jari_jari)\n",
    "\n",
    "volume = 4/3*math.pi*jari_jari**3\n",
    "print(\"Jari-jari Bola: \", volume)"
   ]
  },
  {
   "cell_type": "code",
   "execution_count": null,
   "metadata": {},
   "outputs": [],
   "source": []
  }
 ],
 "metadata": {
  "kernelspec": {
   "display_name": "Python 3",
   "language": "python",
   "name": "python3"
  },
  "language_info": {
   "codemirror_mode": {
    "name": "ipython",
    "version": 3
   },
   "file_extension": ".py",
   "mimetype": "text/x-python",
   "name": "python",
   "nbconvert_exporter": "python",
   "pygments_lexer": "ipython3",
   "version": "3.11.9"
  }
 },
 "nbformat": 4,
 "nbformat_minor": 2
}
