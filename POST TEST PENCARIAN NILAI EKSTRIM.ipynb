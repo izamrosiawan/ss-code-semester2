{
 "cells": [
  {
   "cell_type": "markdown",
   "metadata": {},
   "source": [
    "#### NAMA : IZAM ROSIAWAN\n",
    "#### NIM : 103102400049\n",
    "#### Kelas : DS 04 02"
   ]
  },
  {
   "cell_type": "markdown",
   "metadata": {},
   "source": [
    "Soal 1: \n",
    "Seorang guru mencatat nilai ujian matematika dari 10 siswa sebagai berikut: \n",
    "[78, 85, 92, 67, 88, 90, 75, 95, 80, 70] \n",
    "Tugas: \n",
    "1. Temukan nilai tertinggi dan terendah menggunakan metode pencarian nilai \n",
    "ekstrem. \n",
    "2. Hitung selisih antara nilai tertinggi dan nilai terendah."
   ]
  },
  {
   "cell_type": "code",
   "execution_count": null,
   "metadata": {},
   "outputs": [
    {
     "name": "stdout",
     "output_type": "stream",
     "text": [
      "Nilai tertinggi: 95\n",
      "Nilai terendah: 67\n",
      "Selisih antara nilai tertinggi dan terendah: 28\n"
     ]
    }
   ],
   "source": [
    "def cek_nilai(data):\n",
    "    max_nilai = data[0] # Ini untuk inisial fungsi\n",
    "    min_nilai = data[0]\n",
    "\n",
    "    for nilai in data:  # Looping untuk mencari nilai max dan min\n",
    "        if nilai > max_nilai:\n",
    "            max_nilai = nilai\n",
    "        if nilai < min_nilai:\n",
    "            min_nilai = nilai\n",
    "\n",
    "    return max_nilai, min_nilai # Mengembalikan nilai max dan min\n",
    "\n",
    "data = [78, 85, 92, 67, 88, 90, 75, 95, 80, 70]\n",
    "max_nilai, min_nilai = cek_nilai(data) #Memanggil fungsi cek_nilai\n",
    "selisih = max_nilai - min_nilai\n",
    "#Output\n",
    "print(\"Nilai tertinggi:\", max_nilai)\n",
    "print(\"Nilai terendah:\", min_nilai)\n",
    "print(\"Selisih antara nilai tertinggi dan terendah:\", selisih)"
   ]
  },
  {
   "cell_type": "markdown",
   "metadata": {},
   "source": [
    "Soal 2: \n",
    "Seorang pelanggan ingin mencari produk bernama \"Kopi Luwak\" dalam daftar menu \n",
    "berikut: \n",
    "[\"Teh Hijau\", \"Espresso\", \"Matcha\", \"Cappuccino\", \"Mocha\", \n",
    "\"Affogato\", \"Flat White\", \"Macchiato\", \"Irish Coffee\", \n",
    "\"Ristretto\", \"Long Black\", \"Café au Lait\", \"Frappuccino\", \n",
    "\"Caramel Macchiato\", \"Kopi Tubruk\", \"Kopi Susu\", \n",
    "\"Vietnam Drip\", \"Cold Brew\", \"Kopi Luwak\", \"Americano\"] \n",
    "Tugas: \n",
    "1. Temukan indeks dari produk tersebut. \n",
    "2. Jelaskan langkah-langkah pencarian yang dilakukan."
   ]
  },
  {
   "cell_type": "code",
   "execution_count": null,
   "metadata": {},
   "outputs": [
    {
     "name": "stdout",
     "output_type": "stream",
     "text": [
      "Produk Kopi Luwak ditemukan pada indeks 18\n"
     ]
    }
   ],
   "source": [
    "#list yang berisi produk\n",
    "daftar_menu = [ \n",
    "    \"Teh Hijau\", \"Espresso\", \"Matcha\", \"Cappuccino\", \"Mocha\", \n",
    "    \"Affogato\", \"Flat White\", \"Macchiato\", \"Irish Coffee\", \n",
    "    \"Ristretto\", \"Long Black\", \"Café au Lait\", \"Frappuccino\", \n",
    "    \"Caramel Macchiato\", \"Kopi Tubruk\", \"Kopi Susu\", \n",
    "    \"Vietnam Drip\", \"Cold Brew\", \"Kopi Luwak\", \"Americano\"\n",
    "]\n",
    "\n",
    "produk = \"Kopi Luwak\" #Produk yang dicari\n",
    "indeks = daftar_menu.index(produk) #Mencari indeks dari produk yang dicari\n",
    "print(\"Produk\", produk, \"ditemukan pada indeks\", indeks) #Output"
   ]
  },
  {
   "cell_type": "code",
   "execution_count": null,
   "metadata": {},
   "outputs": [],
   "source": []
  }
 ],
 "metadata": {
  "kernelspec": {
   "display_name": "Python 3",
   "language": "python",
   "name": "python3"
  },
  "language_info": {
   "codemirror_mode": {
    "name": "ipython",
    "version": 3
   },
   "file_extension": ".py",
   "mimetype": "text/x-python",
   "name": "python",
   "nbconvert_exporter": "python",
   "pygments_lexer": "ipython3",
   "version": "3.11.9"
  }
 },
 "nbformat": 4,
 "nbformat_minor": 2
}
