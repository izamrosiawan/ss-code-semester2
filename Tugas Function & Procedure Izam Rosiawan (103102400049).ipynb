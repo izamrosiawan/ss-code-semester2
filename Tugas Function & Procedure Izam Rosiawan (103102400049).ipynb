{
 "cells": [
  {
   "cell_type": "markdown",
   "metadata": {},
   "source": [
    "### Nama : Izam Rosiawan\n",
    "### Nim : 103102400049\n",
    "### Kelas: DS - 04 - 02"
   ]
  },
  {
   "cell_type": "markdown",
   "metadata": {},
   "source": [
    "1. Buatlah fungsi dalam bahasa Python untuk mengkonversi karakter alfabet \n",
    "uupercase menjadi karakter alfabet lowercase. Fungsi dipanggil dalam \n",
    "program dengan masukan dan keluaran sebagai berikut: \n",
    "Masukan berupa sebuah karakter alfabet uppercase (A..Z). \n",
    "Keluaran berupa karakter alfabet lowercase (a..z). "
   ]
  },
  {
   "cell_type": "code",
   "execution_count": 16,
   "metadata": {},
   "outputs": [
    {
     "name": "stdout",
     "output_type": "stream",
     "text": [
      "a\n"
     ]
    }
   ],
   "source": [
    "def convert(alfabet):\n",
    "    if alfabet.isupper():\n",
    "        return alfabet.lower()\n",
    "    else:\n",
    "        return alfabet\n",
    "alfabet = input(\"Masukkan sebuah karakter alfabet uppercase: \")\n",
    "alfabet_kecil = convert(alfabet)\n",
    "print(alfabet_kecil)\n",
    "\n"
   ]
  },
  {
   "cell_type": "markdown",
   "metadata": {},
   "source": [
    "2. Di sebuah planet Z yang berjarak 60 tahun cahaya dari planet Bumi, 1 jam \n",
    "sebanding dengan 600 menit, dan 1 menit sebanding dengan 600 detik. \n",
    "Buatlah fungsi dalam bahasa Python untuk mengkonversi waktu dari jam, \n",
    "menit, dan detik menjadi detik. Fungsi dipanggil dalam program dengan \n",
    "masukan dan keluaran sebagai berikut: \n",
    "Masukan berupa tiga bilangan bulat yang menyatakan jam, menit, dan detik \n",
    "yang mau dikonversi. \n",
    "Keluaran berupa sebuah bilangan bulat hasil konversi dalam detik."
   ]
  },
  {
   "cell_type": "code",
   "execution_count": 15,
   "metadata": {},
   "outputs": [
    {
     "name": "stdout",
     "output_type": "stream",
     "text": [
      "360601\n"
     ]
    }
   ],
   "source": [
    "def konversi(jam, menit, detik):\n",
    "    detik = jam * 360000 + menit * 600 + detik\n",
    "    return detik\n",
    "jam = int(input(\"Masukkan jam: \"))\n",
    "menit = int(input(\"Masukkan menit: \"))\n",
    "detik = int(input(\"Masukkan detik: \"))\n",
    "\n",
    "print(konversi(jam, menit, detik))"
   ]
  },
  {
   "cell_type": "markdown",
   "metadata": {},
   "source": [
    "3. Buatlah fungsi dalam bahasa Python untuk menggabungkan 2 buah \n",
    "string. Fungsi dipanggil dalam sebuah program dengan masukan dan keluaran \n",
    "sebagai berikut: \n",
    "Masukan berupa dua buah string. \n",
    "Keluaran berupa sebuah string hasil gabungan sebagaimana terlihat pada \n",
    "contoh."
   ]
  },
  {
   "cell_type": "code",
   "execution_count": 2,
   "metadata": {},
   "outputs": [
    {
     "name": "stdout",
     "output_type": "stream",
     "text": [
      "telkom university\n"
     ]
    }
   ],
   "source": [
    "def gabung():\n",
    "    string1 = input(\"Masukkan string 1: \")\n",
    "    string2 = input(\"Masukkan string 2: \")\n",
    "    return string1 + \" \" + string2\n",
    "\n",
    "print(gabung())"
   ]
  },
  {
   "cell_type": "markdown",
   "metadata": {},
   "source": [
    "5. Buatlah sebuah fungsi dalam bahasa Python yang dapat menentukan apakah \n",
    "dua buah karakter ASCII sama atau tidak. Khusus untuk karakter alfabet, \n",
    "karakter lowercase dan uppercase dianggap sama. Fungsi dipanggil dalam \n",
    "program dengan masukan dan keluaran sebagai berikut: \n",
    "Masukan berupa dua buah karakter. \n",
    "Keluaran berupa boolean. "
   ]
  },
  {
   "cell_type": "code",
   "execution_count": 8,
   "metadata": {},
   "outputs": [
    {
     "name": "stdout",
     "output_type": "stream",
     "text": [
      "True\n"
     ]
    }
   ],
   "source": [
    "def cek_karakter(karakter1, karakter2):\n",
    "    if ord(karakter1.lower()) == ord(karakter2.lower()):\n",
    "        return True\n",
    "    else:\n",
    "        return False\n",
    "\n",
    "karakter1 = input(\"Masukkan karakter 1: \")\n",
    "karakter2 = input(\"Masukkan karakter 2: \")\n",
    "print(cek_karakter(karakter1, karakter2))"
   ]
  },
  {
   "cell_type": "markdown",
   "metadata": {},
   "source": [
    "6. Buatlah fungsi cekCLO untuk mengetahui kelulusan mahasiswa dalam suatu \n",
    "mata kuliah yang memiliki 3 CLO. Mahasiswa dikatakan lulus apabila nilai \n",
    "setiap CLO lebih dari x, dengan 0 <= nilai CLO <= 100 dan 40 <= x <= 50.  \n",
    "Fungsi dipanggil dalam program dengan masukan dan keluaran sebagai \n",
    "berikut: \n",
    "Masukan berupa 4 bilangan riil yang menyatakan nilai CLO1, CLO2, CLO3, \n",
    "dan x. \n",
    "Keluaran adalah status kelulusan (True bila lulus atau False bila tidak lulus) "
   ]
  },
  {
   "cell_type": "code",
   "execution_count": 3,
   "metadata": {},
   "outputs": [
    {
     "name": "stdout",
     "output_type": "stream",
     "text": [
      "False\n"
     ]
    }
   ],
   "source": [
    "def cekCLO():\n",
    "    clo1 = float(input(\"Masukkan nilai CLO 1: \"))\n",
    "    clo2 = float(input(\"Masukkan nilai CLO 2: \"))\n",
    "    clo3 = float(input(\"Masukkan nilai CLO 3: \"))\n",
    "    x = float(input(\"Masukkan nilai x: \"))\n",
    "    \n",
    "    if clo1 > x and clo2 > x and clo3 > x and 40 <= x <= 50:\n",
    "        return True\n",
    "    else:\n",
    "        return False\n",
    "    \n",
    "print(cekCLO())"
   ]
  },
  {
   "cell_type": "markdown",
   "metadata": {},
   "source": [
    "7. Buatlah fungsi kalkulator yang dapat melakukan perhitungan penjumlahan, \n",
    "pengurangan, perkalian, dan pembagian. Fungsi akan memiliki 3 parameter \n",
    "dengan 2 parameter berjenis bilangan real yang menyatakan operand dan 1 \n",
    "parameter berjenis karakter yang menyatakan operator ('+', '-', '*', atau \n",
    "'/').  Buat pula program utama yang digunakan untuk memanggil fungsi \n",
    "kalkulator yang telah dibuat dengan masukan dan keluaran sebagai berikut: "
   ]
  },
  {
   "cell_type": "code",
   "execution_count": 12,
   "metadata": {},
   "outputs": [
    {
     "name": "stdout",
     "output_type": "stream",
     "text": [
      "30.0\n"
     ]
    }
   ],
   "source": [
    "def kalkulator(angka1, angka2, operator):\n",
    "    if operator == '+':\n",
    "        return angka1 + angka2\n",
    "    elif operator == '-':\n",
    "        return angka1 - angka2\n",
    "    elif operator == '*':\n",
    "        return angka1 * angka2\n",
    "    elif operator == '/':\n",
    "        if angka2 == 0:\n",
    "            return \"Error\"\n",
    "        else:\n",
    "            return angka1 / angka2\n",
    "\n",
    "angka1 = float(input(\"Masukkan angka 1: \"))\n",
    "angka2 = float(input(\"Masukkan angka 2: \"))\n",
    "operator = input(\"Masukkan operator (+, -, *, atau /): \")\n",
    "\n",
    "hasil = kalkulator(angka1, angka2, operator)\n",
    "print(hasil)\n"
   ]
  },
  {
   "cell_type": "markdown",
   "metadata": {},
   "source": [
    "8. Buatlah prosedur denda untuk menentukan denda bagi seorang peminjam \n",
    "buku perpustakaan karena terlambat mengembalikan buku pinjaman. Jika \n",
    "terlambat hingga 5 hari, harus membayar sebesar Rp 1.000 per harinya. Jika \n",
    "terlambat antara 6 hingga 10 hari, harus membayar denda Rp 2.000 per \n",
    "harinya. Jika terlambat lebih dari 10 hari, maka keanggotaan dicabut. \n",
    " \n",
    "    Prosedur dipanggil dalam program dengan masukan (in) dan keluaran sebagai \n",
    "berikut: \n",
    "Masukan berupa sebuah bilangan bulat yang menyatakan jumlah hari \n",
    "keterlambatan. \n",
    "Keluaran mencetak jumlah uang denda atau bila terlambat 10 hari, mencetak \n",
    "string \"cabut keanggotaan\"."
   ]
  },
  {
   "cell_type": "code",
   "execution_count": null,
   "metadata": {},
   "outputs": [
    {
     "data": {
      "text/plain": [
       "3000"
      ]
     },
     "execution_count": 18,
     "metadata": {},
     "output_type": "execute_result"
    }
   ],
   "source": [
    "def denda():\n",
    "    hari_keterlambatan = int(input(\"Masukkan jumlah hari keterlambatan: \"))\n",
    "    if hari_keterlambatan <= 5:\n",
    "        return hari_keterlambatan * 1000\n",
    "    elif hari_keterlambatan <= 10:\n",
    "        return hari_keterlambatan * 2000\n",
    "    else:\n",
    "        return \"Cabut keanggotaan\"\n",
    "denda()"
   ]
  },
  {
   "cell_type": "markdown",
   "metadata": {},
   "source": [
    "9. Buatlah prosedur cekFaktor untuk menentukan apakah bilangan bulat a \n",
    "merupakan faktor dari bilangan b atau bukan. \n",
    "Prosedur dipanggil dalam program dengan masukan (in) dan keluaran sebagai \n",
    "berikut: \n",
    "Masukan berupa dua buah bilangan bulat positif, a dan b. \n",
    "Keluaran mencetak \"Ya\" jika a adalah faktor dari b atau \"Tidak\" jika bukan."
   ]
  },
  {
   "cell_type": "code",
   "execution_count": 20,
   "metadata": {},
   "outputs": [
    {
     "name": "stdout",
     "output_type": "stream",
     "text": [
      "Ya\n"
     ]
    }
   ],
   "source": [
    "def cekFaktor():\n",
    "    a = int(input(\"Masukkan bilangan a: \"))\n",
    "    b = int(input(\"Masukkan bilangan b: \"))\n",
    "    \n",
    "    if b % a == 0:\n",
    "        print(\"Ya\")\n",
    "    else:\n",
    "        print(\"Tidak\")\n",
    "cekFaktor()"
   ]
  },
  {
   "cell_type": "markdown",
   "metadata": {},
   "source": [
    "10. Buatlah prosedur namaHari untuk mencetak nama hari dengan masukan \n",
    "bilangan 1-7. Berikut ketentuannya: \n",
    "Bilangan 1, hari \"Minggu\" \n",
    "Bilangan 2, hari \"Senin\" \n",
    "Bilangan 3, hari \"Selasa\" \n",
    "Bilangan 4, hari \"Rabu\" \n",
    "Bilangan 5, hari \"Kamis\" \n",
    "Bilangan 6, hari \"Jumat\" \n",
    "Bilangan 7, hari \"Sabtu\"\n",
    "Prosedur dipanggil dalam program dengan masukan (in) dan keluaran sebagai \n",
    "berikut:  \n",
    " \n",
    "    Masukan berupa sebuah bilangan bulat dari 1 hingga 7. \n",
    "Keluaran adalah nama hari berdasarkan bilangan masukan."
   ]
  },
  {
   "cell_type": "code",
   "execution_count": 22,
   "metadata": {},
   "outputs": [
    {
     "name": "stdout",
     "output_type": "stream",
     "text": [
      "Minggu\n"
     ]
    }
   ],
   "source": [
    "def namaHari():\n",
    "    hari = int(input(\"Masukkan bilangan hari (1-7): \"))\n",
    "    \n",
    "    if hari == 1:\n",
    "        print(\"Minggu\")\n",
    "    elif hari == 2:\n",
    "        print(\"Senin\")\n",
    "    elif hari == 3:\n",
    "        print(\"Selasa\")\n",
    "    elif hari == 4:\n",
    "        print(\"Rabu\")\n",
    "    elif hari == 5:\n",
    "        print(\"Kamis\")\n",
    "    elif hari == 6:\n",
    "        print(\"Jumat\")\n",
    "    elif hari == 7:\n",
    "        print(\"Sabtu\")\n",
    "    else:\n",
    "        print(\"Error\")\n",
    "\n",
    "namaHari()"
   ]
  },
  {
   "cell_type": "markdown",
   "metadata": {},
   "source": [
    "11. Buatlah prosedur dalam bahasa Python bernama deskripsiHuruf untuk \n",
    "mencetak deskripsi nilai huruf menjadi bilangan bulat berdasarkan tabel di \n",
    "bawah: \n",
    "nilai huruf    deskripsi \n",
    "A              5 \n",
    "B              4 \n",
    "C              3 \n",
    "D              2 \n",
    "E              1 \n",
    "T              0 \n",
    "Prosedur dipanggil dalam program dengan masukan (in) dan keluaran sebagai \n",
    "berikut:  \n",
    " \n",
    "Masukan berupa sebuah karakter yang menyatakan nilai huruf. \n",
    "Keluaran mencetak deskripsi berdasarkan tabel."
   ]
  },
  {
   "cell_type": "code",
   "execution_count": 11,
   "metadata": {},
   "outputs": [
    {
     "name": "stdout",
     "output_type": "stream",
     "text": [
      "5\n"
     ]
    }
   ],
   "source": [
    "def deskripsiHuruf():\n",
    "    huruf = input(\"Masukkan huruf: \")\n",
    "    if huruf == 'A':     \n",
    "        print(\"5\")\n",
    "    elif huruf == 'B':\n",
    "        print(\"4\")\n",
    "    elif huruf == 'C':\n",
    "        print(\"3\")\n",
    "    elif huruf == 'D':\n",
    "        print(\"2\")\n",
    "    elif huruf == 'E':\n",
    "        print(\"1\")\n",
    "    elif huruf == 'T':\n",
    "        print(\"0\")\n",
    "    else:\n",
    "        print(\"Error\")\n",
    "deskripsiHuruf()\n"
   ]
  },
  {
   "cell_type": "code",
   "execution_count": null,
   "metadata": {},
   "outputs": [],
   "source": []
  }
 ],
 "metadata": {
  "kernelspec": {
   "display_name": "Python 3",
   "language": "python",
   "name": "python3"
  },
  "language_info": {
   "codemirror_mode": {
    "name": "ipython",
    "version": 3
   },
   "file_extension": ".py",
   "mimetype": "text/x-python",
   "name": "python",
   "nbconvert_exporter": "python",
   "pygments_lexer": "ipython3",
   "version": "3.11.9"
  }
 },
 "nbformat": 4,
 "nbformat_minor": 2
}
