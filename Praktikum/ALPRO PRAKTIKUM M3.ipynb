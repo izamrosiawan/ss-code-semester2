{
 "cells": [
  {
   "cell_type": "markdown",
   "metadata": {},
   "source": [
    "M3 Praktikum"
   ]
  },
  {
   "cell_type": "code",
   "execution_count": 2,
   "metadata": {},
   "outputs": [
    {
     "name": "stdout",
     "output_type": "stream",
     "text": [
      "Halo, Aldi!\n"
     ]
    }
   ],
   "source": [
    "def sapa(nama):\n",
    "    print(f\"Halo, {nama}!\")\n",
    "\n",
    "sapa(\"Aldi\")"
   ]
  },
  {
   "cell_type": "code",
   "execution_count": 3,
   "metadata": {},
   "outputs": [
    {
     "name": "stdout",
     "output_type": "stream",
     "text": [
      "Total harga 3 Buku adalah Rp60000\n"
     ]
    }
   ],
   "source": [
    "def hitung_total(harga, jumlah): \n",
    "    return harga * jumlah  # Mengembalikan total harga \n",
    "def cetak_total(nama_barang, harga, jumlah): \n",
    "    total = hitung_total(harga, jumlah)  # Memanggil fungsi lain \n",
    "    print(f\"Total harga {jumlah} {nama_barang} adalah Rp{total}\") \n",
    "cetak_total(\"Buku\", 20000, 3)  "
   ]
  },
  {
   "cell_type": "code",
   "execution_count": 9,
   "metadata": {},
   "outputs": [
    {
     "name": "stdout",
     "output_type": "stream",
     "text": [
      "Total harga 2 pensi adalah Rp10000\n"
     ]
    }
   ],
   "source": [
    "cetak_total(\"pensi\", 5000, 2)"
   ]
  },
  {
   "cell_type": "code",
   "execution_count": 5,
   "metadata": {},
   "outputs": [
    {
     "name": "stdout",
     "output_type": "stream",
     "text": [
      "2^3 = 8\n"
     ]
    }
   ],
   "source": [
    "#Input \n",
    "def pangkat(a, b):  # Rekursi menghitung a^b \n",
    "    if b == 0: \n",
    "        return 1 \n",
    "    return a * pangkat(a, b - 1) \n",
    "def cetak_pangkat(a, b): \n",
    "    hasil = pangkat(a, b)  # Memanggil fungsi rekursif \n",
    "    print(f\"{a}^{b} = {hasil}\") \n",
    "cetak_pangkat(2, 3) "
   ]
  },
  {
   "cell_type": "code",
   "execution_count": 6,
   "metadata": {},
   "outputs": [
    {
     "name": "stdout",
     "output_type": "stream",
     "text": [
      "3^4 = 81\n"
     ]
    }
   ],
   "source": [
    "cetak_pangkat(3, 4)"
   ]
  },
  {
   "cell_type": "markdown",
   "metadata": {},
   "source": [
    "Mencetak Bilangan Mundur\n",
    "\n",
    "Gunakan rekursi untuk mencetak angka dari n ke 1.\n",
    "\n",
    "catatan:\n",
    "\n",
    "Gunakan fungsi rekursif untuk menyelesaikan soal ini.\n",
    "Pastikan ada kondisi dasar untuk menghentikan rekursi.\n",
    "Parameter n adalah bilangan bulat positif.\n",
    "Sample Output\n",
    "\n",
    "5\n",
    "4\n",
    "3\n",
    "2\n",
    "1"
   ]
  },
  {
   "cell_type": "code",
   "execution_count": 11,
   "metadata": {},
   "outputs": [
    {
     "name": "stdout",
     "output_type": "stream",
     "text": [
      "5\n",
      "4\n",
      "3\n",
      "2\n",
      "1\n"
     ]
    }
   ],
   "source": [
    "def cetak_mundur(n):\n",
    "    for i in range(n):\n",
    "        print(n - i)\n",
    "        \n",
    "cetak_mundur(5)\n"
   ]
  },
  {
   "cell_type": "code",
   "execution_count": 15,
   "metadata": {},
   "outputs": [
    {
     "name": "stdout",
     "output_type": "stream",
     "text": [
      "5\n",
      "4\n",
      "3\n",
      "2\n",
      "1\n"
     ]
    }
   ],
   "source": [
    "def cetak_mundur(n):\n",
    "    if n == 0:\n",
    "        return\n",
    "    print(n)\n",
    "    cetak_mundur(n-1)\n",
    "\n",
    "cetak_mundur(5)"
   ]
  },
  {
   "cell_type": "code",
   "execution_count": 13,
   "metadata": {},
   "outputs": [
    {
     "name": "stdout",
     "output_type": "stream",
     "text": [
      "10\n",
      "9\n",
      "8\n",
      "7\n",
      "6\n",
      "5\n",
      "4\n",
      "3\n",
      "2\n",
      "1\n"
     ]
    }
   ],
   "source": [
    "cetak_mundur(10)"
   ]
  },
  {
   "cell_type": "markdown",
   "metadata": {},
   "source": [
    "Mencari Bilangan Terbesar dalam List dengan Rekursi\n",
    "\n",
    "Buatlah fungsi rekursif yang mencari bilangan terbesar dalam sebuah list.\n",
    "\n",
    "catatan:\n",
    "\n",
    "Gunakan rekursi untuk menemukan bilangan terbesar dalam list.\n",
    "Pastikan ada kondisi dasar untuk menghentikan rekursi.\n",
    "List berisi bilangan bulat positif.\n",
    "Sample Output\n",
    "\n",
    "8"
   ]
  },
  {
   "cell_type": "code",
   "execution_count": 23,
   "metadata": {},
   "outputs": [],
   "source": [
    "list = [1, 2, 3, 4, 5, 6, 7, 8]\n",
    "def bilangan_terbesar(list):\n",
    "    if len(list) == 1:\n",
    "        return list[1]"
   ]
  },
  {
   "cell_type": "code",
   "execution_count": 33,
   "metadata": {},
   "outputs": [
    {
     "name": "stdout",
     "output_type": "stream",
     "text": [
      "2\n"
     ]
    }
   ],
   "source": [
    "def angka_terbesar(n):\n",
    "    if len(n) == 1:\n",
    "        return n[0]\n",
    "    else:\n",
    "        angka = angka_terbesar(n[1:])\n",
    "        if angka > n[0]:\n",
    "            return n[0]\n",
    "        else:\n",
    "            return angka\n",
    "        \n",
    "list = [2,3,5,6,7,8,9,10]\n",
    "print(angka_terbesar(list))\n",
    "    "
   ]
  },
  {
   "cell_type": "code",
   "execution_count": 40,
   "metadata": {},
   "outputs": [
    {
     "name": "stdout",
     "output_type": "stream",
     "text": [
      "Meletakana kue lapisan ke 1\n",
      "Meletakana kue lapisan ke 2\n",
      "Meletakana kue lapisan ke 3\n",
      "Meletakana kue lapisan ke 4\n",
      "Meletakana kue lapisan ke 5\n"
     ]
    }
   ],
   "source": [
    "def susun_kue(lapisan):\n",
    "    if lapisan == 1:\n",
    "        print(f\"Meletakana kue lapisan ke {lapisan}\")\n",
    "    else:\n",
    "        susun_kue(lapisan - 1)\n",
    "        print(f\"Meletakana kue lapisan ke {lapisan}\")\n",
    "\n",
    "susun_kue(5)"
   ]
  },
  {
   "cell_type": "markdown",
   "metadata": {},
   "source": [
    "Seorang anak bernama Budi suka bermain dengan angka. Suatu hari, dia menemukan \n",
    "sebuah permainan menarik: dia ingin menjumlahkan semua digit dalam sebuah bilangan \n",
    "hingga hanya tersisa satu digit saja. \n",
    "Contohnya: \n",
    "Jika Budi memiliki angka 9875, maka prosesnya seperti ini: \n",
    "• 9 + 8 + 7 + 5 = 29 \n",
    "• 2 + 9 = 11 \n",
    "• 1 + 1 = 2 \n",
    "• Hasil akhirnya adalah 2. \n",
    "Bantu Budi membuat sebuah fungsi rekursif dalam Python untuk menyelesaikan \n",
    "perhitungan ini! \n",
    "Petunjuk: \n",
    "• Buatlah fungsi sum_digits(n) yang menerima satu angka n. \n",
    "• Jika n masih memiliki lebih dari satu digit, jumlahkan digit-digitnya dan panggil \n",
    "kembali fungsi tersebut secara rekursif. \n",
    "• Jika n sudah berupa satu digit, kembalikan nilai tersebut \n",
    "Contoh Output  \n",
    "Output: \n",
    "Hasil akhir dari 9875 adalah 2"
   ]
  },
  {
   "cell_type": "code",
   "execution_count": 16,
   "metadata": {},
   "outputs": [
    {
     "name": "stdout",
     "output_type": "stream",
     "text": [
      "Hasil akhir dari 9875 adalah 29\n"
     ]
    }
   ],
   "source": [
    "def sum_digits(n):\n",
    "    if n < 10:\n",
    "        return n\n",
    "    else:\n",
    "        return (n % 10) + sum_digits(n // 10)\n",
    "    \n",
    "print(f\"Hasil akhir dari {9875} adalah {sum_digits(9875)}\")"
   ]
  },
  {
   "cell_type": "code",
   "execution_count": 14,
   "metadata": {},
   "outputs": [
    {
     "name": "stdout",
     "output_type": "stream",
     "text": [
      "Hasil akhir dari 9875 adalah 2\n"
     ]
    }
   ],
   "source": [
    "def sum_digits(n):\n",
    "    if n < 10:\n",
    "        return n\n",
    "    else:\n",
    "        total = (n % 10) + sum_digits(n // 10)  \n",
    "        if total >= 10:\n",
    "            return sum_digits(total)\n",
    "        else:\n",
    "            return total\n",
    "\n",
    "print(f\"Hasil akhir dari {9875} adalah {sum_digits(9875)}\")"
   ]
  },
  {
   "cell_type": "code",
   "execution_count": null,
   "metadata": {},
   "outputs": [],
   "source": []
  }
 ],
 "metadata": {
  "kernelspec": {
   "display_name": "Python 3",
   "language": "python",
   "name": "python3"
  },
  "language_info": {
   "codemirror_mode": {
    "name": "ipython",
    "version": 3
   },
   "file_extension": ".py",
   "mimetype": "text/x-python",
   "name": "python",
   "nbconvert_exporter": "python",
   "pygments_lexer": "ipython3",
   "version": "3.11.9"
  }
 },
 "nbformat": 4,
 "nbformat_minor": 2
}
