{
 "cells": [
  {
   "cell_type": "code",
   "execution_count": 1,
   "metadata": {},
   "outputs": [
    {
     "name": "stdout",
     "output_type": "stream",
     "text": [
      "Nilai Maksimum: 89\n",
      "Nilai Minimum: 12\n"
     ]
    }
   ],
   "source": [
    "def find_extreme(data):\n",
    "    maksimum = data[0]\n",
    "    minimum = data[0]\n",
    "\n",
    "    for nilai in data:\n",
    "        if nilai > maksimum:\n",
    "            maksimum = nilai\n",
    "        if nilai < minimum:\n",
    "            minimum = nilai\n",
    "\n",
    "    return maksimum, minimum\n",
    "\n",
    "data = [34, 12, 89, 23, 67, 34]\n",
    "maks, mins = find_extreme(data)\n",
    "\n",
    "print(f\"Nilai Maksimum: {maks}\")\n",
    "print(f\"Nilai Minimum: {mins}\")"
   ]
  },
  {
   "cell_type": "code",
   "execution_count": 2,
   "metadata": {},
   "outputs": [
    {
     "name": "stdout",
     "output_type": "stream",
     "text": [
      "Nilai Maksimum: 99\n",
      "Nilai Minimum: 8\n"
     ]
    }
   ],
   "source": [
    "data = [15, 42, 8, 99, 23]\n",
    "\n",
    "print(\"Nilai Maksimum:\", max(data))\n",
    "print(\"Nilai Minimum:\", min(data))"
   ]
  },
  {
   "cell_type": "code",
   "execution_count": 5,
   "metadata": {},
   "outputs": [
    {
     "name": "stdout",
     "output_type": "stream",
     "text": [
      "Nilai Maksimum: 9\n",
      "Nilai Minimum: 1\n"
     ]
    }
   ],
   "source": [
    "import numpy as np\n",
    "import logging\n",
    "\n",
    "logging.basicConfig(level=logging.INFO, format='%(asctime)s - %(levelname)s - %(message)s')\n",
    "\n",
    "data = np.array([\n",
    "    [4, 9, 2],\n",
    "    [6, 1, 8],\n",
    "    [5, 3, 7]\n",
    "])\n",
    "\n",
    "print(\"Nilai Maksimum:\", np.max(data))\n",
    "print(\"Nilai Minimum:\", np.min(data))\n"
   ]
  },
  {
   "cell_type": "code",
   "execution_count": null,
   "metadata": {},
   "outputs": [
    {
     "name": "stdout",
     "output_type": "stream",
     "text": [
      "Data 45 ditemukan di indeks 3\n"
     ]
    }
   ],
   "source": [
    "def sequential_search(data, target):\n",
    "    for i in range(len(data)):\n",
    "        if data[i] == target:\n",
    "            return i  # Indeks ditemukan\n",
    "    return -1  # Jika tidak ditemukan\n",
    "\n",
    "data = [10, 25, 30, 45, 50]\n",
    "target = 45\n",
    "\n",
    "hasil2 = sequential_search(data, target)\n",
    "if hasil2 != -1:\n",
    "    print(f\"Data {target} ditemukan di indeks {hasil2}\")\n",
    "else:\n",
    "    print(f\"Data {target} tidak ditemukan\")"
   ]
  },
  {
   "cell_type": "code",
   "execution_count": 18,
   "metadata": {},
   "outputs": [
    {
     "name": "stdout",
     "output_type": "stream",
     "text": [
      "Data 45 tidak ditemukan\n"
     ]
    }
   ],
   "source": [
    "def sequential_search1(data2, target2):\n",
    "    for i in range(len(data2)):\n",
    "        if data2[i] == target2:\n",
    "            return i  # Indeks ditemukan\n",
    "    return -1  # Jika tidak ditemukan\n",
    "\n",
    "data2 =  [3, 8, 15, 20, 27, 35, 42] \n",
    "target2 = 45\n",
    "\n",
    "hasil2 = sequential_search1(data2, target2)\n",
    "if hasil2 != -1:\n",
    "    print(f\"Data {target2} ditemukan di indeks {hasil2}\")\n",
    "else:\n",
    "    print(f\"Data {target2} tidak ditemukan\")"
   ]
  },
  {
   "cell_type": "code",
   "execution_count": 19,
   "metadata": {},
   "outputs": [
    {
     "name": "stdout",
     "output_type": "stream",
     "text": [
      "Data 27 ditemukan di indeks 4\n"
     ]
    }
   ],
   "source": [
    "def binary_search(data, target):\n",
    "    left, right = 0, len(data) - 1\n",
    "\n",
    "    while left <= right:\n",
    "        mid = (left + right) // 2\n",
    "\n",
    "        if data[mid] == target:\n",
    "            return mid\n",
    "        elif data[mid] < target:\n",
    "            left = mid + 1\n",
    "        else:\n",
    "            right = mid - 1\n",
    "\n",
    "    return -1\n",
    "\n",
    "# Data yang sudah diurutkan\n",
    "data = [3, 8, 15, 20, 27, 35, 42]\n",
    "target = 27\n",
    "\n",
    "hasil = binary_search(data, target)\n",
    "\n",
    "if hasil != -1:\n",
    "    print(f\"Data {target} ditemukan di indeks {hasil}\")\n",
    "else:\n",
    "    print(f\"Data {target} tidak ditemukan\")"
   ]
  },
  {
   "cell_type": "code",
   "execution_count": null,
   "metadata": {},
   "outputs": [],
   "source": []
  }
 ],
 "metadata": {
  "kernelspec": {
   "display_name": "Python 3",
   "language": "python",
   "name": "python3"
  },
  "language_info": {
   "codemirror_mode": {
    "name": "ipython",
    "version": 3
   },
   "file_extension": ".py",
   "mimetype": "text/x-python",
   "name": "python",
   "nbconvert_exporter": "python",
   "pygments_lexer": "ipython3",
   "version": "3.11.9"
  }
 },
 "nbformat": 4,
 "nbformat_minor": 2
}
