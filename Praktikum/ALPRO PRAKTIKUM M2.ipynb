{
 "cells": [
  {
   "cell_type": "code",
   "execution_count": 2,
   "metadata": {},
   "outputs": [
    {
     "name": "stdout",
     "output_type": "stream",
     "text": [
      "Luas segitiga:  595.0\n"
     ]
    }
   ],
   "source": [
    "def luasSegitiga (alas, tinggi):\n",
    "    return 0.5 * alas * tinggi\n",
    "\n",
    "alas = float(input(\"Masukkan alas segitiga: \"))\n",
    "tinggi = float(input(\"Masukkan tinggi segitiga: \"))\n",
    "luas = luasSegitiga(alas, tinggi)\n",
    "print(\"Luas segitiga: \", luas)"
   ]
  },
  {
   "cell_type": "code",
   "execution_count": null,
   "metadata": {},
   "outputs": [],
   "source": []
  }
 ],
 "metadata": {
  "kernelspec": {
   "display_name": "Python 3",
   "language": "python",
   "name": "python3"
  },
  "language_info": {
   "codemirror_mode": {
    "name": "ipython",
    "version": 3
   },
   "file_extension": ".py",
   "mimetype": "text/x-python",
   "name": "python",
   "nbconvert_exporter": "python",
   "pygments_lexer": "ipython3",
   "version": "3.11.9"
  }
 },
 "nbformat": 4,
 "nbformat_minor": 2
}
