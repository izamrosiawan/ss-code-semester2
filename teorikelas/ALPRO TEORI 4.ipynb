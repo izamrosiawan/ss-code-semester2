{
 "cells": [
  {
   "cell_type": "code",
   "execution_count": 4,
   "metadata": {},
   "outputs": [],
   "source": [
    "def cetak(x:int):\n",
    "    if x == 10: \n",
    "        print(x)\n",
    "    else:\n",
    "        print(x)\n",
    "        cetak(x+1)"
   ]
  },
  {
   "cell_type": "code",
   "execution_count": 6,
   "metadata": {},
   "outputs": [
    {
     "name": "stdout",
     "output_type": "stream",
     "text": [
      "12\n",
      "11\n",
      "10\n"
     ]
    }
   ],
   "source": [
    "cetak(12)"
   ]
  },
  {
   "cell_type": "code",
   "execution_count": 7,
   "metadata": {},
   "outputs": [],
   "source": [
    "def cetak(x:int):\n",
    "    if x == 10: \n",
    "        print(x)\n",
    "    elif x > 10:\n",
    "        print(\"Error: Bilangan harus lebih kecil dari 10\")\n",
    "    else:\n",
    "        print(x)\n",
    "        cetak(x+1)"
   ]
  },
  {
   "cell_type": "code",
   "execution_count": 8,
   "metadata": {},
   "outputs": [
    {
     "name": "stdout",
     "output_type": "stream",
     "text": [
      "5\n",
      "6\n",
      "7\n",
      "8\n",
      "9\n",
      "10\n"
     ]
    }
   ],
   "source": [
    "cetak(5)"
   ]
  },
  {
   "cell_type": "code",
   "execution_count": 9,
   "metadata": {},
   "outputs": [],
   "source": [
    "def cetak(x:int):\n",
    "    if x == 10: \n",
    "        print(x)\n",
    "    elif x > 10:\n",
    "        print(\"Error: Bilangan harus lebih kecil dari 10\")\n",
    "    else:\n",
    "        print(x)\n",
    "        cetak(x+1)\n",
    "        print(x)"
   ]
  },
  {
   "cell_type": "code",
   "execution_count": 12,
   "metadata": {},
   "outputs": [
    {
     "name": "stdout",
     "output_type": "stream",
     "text": [
      "5\n",
      "6\n",
      "7\n",
      "8\n",
      "9\n",
      "10\n",
      "9\n",
      "8\n",
      "7\n",
      "6\n",
      "5\n"
     ]
    }
   ],
   "source": [
    "cetak(5)"
   ]
  },
  {
   "cell_type": "code",
   "execution_count": 27,
   "metadata": {},
   "outputs": [],
   "source": [
    "# Ini adalah function atau def\n",
    "def pangkat(n:int) -> int:\n",
    "    if n == 1:\n",
    "        return 2\n",
    "    else:\n",
    "        return 2 * pangkat(n-1)\n",
    "    \n",
    "# Ini adalah Prosedur\n",
    "def duaPangkat():\n",
    "    N = int(input(\"Masukkan bilangan: \"))\n",
    "    hasil = pangkat(N)\n",
    "    print(f\"2 pangkat {N} adalah {hasil}\")"
   ]
  },
  {
   "cell_type": "code",
   "execution_count": 25,
   "metadata": {},
   "outputs": [
    {
     "name": "stdout",
     "output_type": "stream",
     "text": [
      "2 pangkat 5 adalah 32\n"
     ]
    }
   ],
   "source": [
    "duaPangkat()"
   ]
  },
  {
   "cell_type": "code",
   "execution_count": 28,
   "metadata": {},
   "outputs": [],
   "source": [
    "# Ini adalah function atau def\n",
    "def pangkat(n:int) -> int:\n",
    "    if n == 1:\n",
    "        return 2\n",
    "    elif n < 1:\n",
    "        print(\"Error: Bilangan harus positif\")\n",
    "    else:\n",
    "        return 2 * pangkat(n-1)\n",
    "    \n",
    "# Ini adalah Prosedur\n",
    "def duaPangkat():\n",
    "    N = int(input(\"Masukkan bilangan: \"))\n",
    "    hasil = pangkat(N)\n",
    "    print(f\"2 pangkat {N} adalah {hasil}\")"
   ]
  },
  {
   "cell_type": "code",
   "execution_count": 30,
   "metadata": {},
   "outputs": [
    {
     "name": "stdout",
     "output_type": "stream",
     "text": [
      "Error: Bilangan harus positif\n",
      "2 pangkat 0 adalah None\n"
     ]
    }
   ],
   "source": [
    "duaPangkat()"
   ]
  },
  {
   "cell_type": "code",
   "execution_count": 37,
   "metadata": {},
   "outputs": [],
   "source": [
    "# Ini adalah function atau def\n",
    "def pangkat(x:int, y:int) -> int:\n",
    "    if y == 1:\n",
    "        return x\n",
    "    elif y < 1:\n",
    "        print(\"Error: Bilangan harus positif\")\n",
    "    else:\n",
    "        return x * pangkat(y-1)\n",
    "    \n",
    "# Ini adalah Prosedur\n",
    "def duaPangkat():\n",
    "    X = int(input(\"Masukkan bilangan: \"))\n",
    "    Y = int(input(\"Masukkan Pangakat: \"))\n",
    "    hasil = pangkat(X, Y)\n",
    "    print(f\"{X} pangkat {Y} adalah {hasil} adalah\")\n",
    "\n",
    "#Error"
   ]
  },
  {
   "cell_type": "code",
   "execution_count": 38,
   "metadata": {},
   "outputs": [],
   "source": [
    "def faktorial(n : int):\n",
    "    if n == 1:\n",
    "        return 1\n",
    "    else:\n",
    "        return n * faktorial(n-1)\n",
    "\n",
    "#Ini adalah prosedur\n",
    "def hitung():\n",
    "    N = int(input(\"Masukkan bilangan: \"))\n",
    "    hasil = faktorial(N)\n",
    "    print(f\"Faktorial {N} adalah {hasil}\")"
   ]
  },
  {
   "cell_type": "code",
   "execution_count": 39,
   "metadata": {},
   "outputs": [
    {
     "name": "stdout",
     "output_type": "stream",
     "text": [
      "Faktorial 5 adalah 120\n"
     ]
    }
   ],
   "source": [
    "hitung()"
   ]
  },
  {
   "cell_type": "code",
   "execution_count": null,
   "metadata": {},
   "outputs": [
    {
     "name": "stdout",
     "output_type": "stream",
     "text": [
      "*\n",
      "**\n"
     ]
    }
   ],
   "source": [
    "def pola(n):\n",
    "    if n == 1:\n",
    "        print(\"*\")\n",
    "        return\n",
    "    else:\n",
    "        "
   ]
  },
  {
   "cell_type": "code",
   "execution_count": 70,
   "metadata": {},
   "outputs": [],
   "source": [
    "def pola(n):\n",
    "    if n == 1:\n",
    "        print(n)\n",
    "        return\n",
    "    else:\n",
    "        pola(n-1)\n",
    "    for i in range(n):\n",
    "        print(n, end=\"\")\n",
    "    print()\n",
    "\n",
    "# Ini adalah Prosedur\n",
    "def cetak():\n",
    "    N = int(input(\"Masukkan bilangan: \"))\n",
    "    pola(N)"
   ]
  },
  {
   "cell_type": "code",
   "execution_count": 71,
   "metadata": {},
   "outputs": [
    {
     "name": "stdout",
     "output_type": "stream",
     "text": [
      "6\n",
      "4\n",
      "1\n"
     ]
    }
   ],
   "source": [
    "cetak()"
   ]
  },
  {
   "cell_type": "code",
   "execution_count": 92,
   "metadata": {},
   "outputs": [
    {
     "name": "stdout",
     "output_type": "stream",
     "text": [
      "10101010101010101010None\n"
     ]
    }
   ],
   "source": [
    "def pembagi(n):\n",
    "    if n % 2 == 1:\n",
    "        return (1, n)\n",
    "    elif n % 2 == 0: \n",
    "        return \n",
    "print(pembagi(10))"
   ]
  },
  {
   "cell_type": "code",
   "execution_count": 93,
   "metadata": {},
   "outputs": [
    {
     "name": "stdout",
     "output_type": "stream",
     "text": [
      "55\n"
     ]
    }
   ],
   "source": []
  },
  {
   "cell_type": "code",
   "execution_count": null,
   "metadata": {},
   "outputs": [],
   "source": []
  }
 ],
 "metadata": {
  "kernelspec": {
   "display_name": "Python 3",
   "language": "python",
   "name": "python3"
  },
  "language_info": {
   "codemirror_mode": {
    "name": "ipython",
    "version": 3
   },
   "file_extension": ".py",
   "mimetype": "text/x-python",
   "name": "python",
   "nbconvert_exporter": "python",
   "pygments_lexer": "ipython3",
   "version": "3.11.9"
  }
 },
 "nbformat": 4,
 "nbformat_minor": 2
}
