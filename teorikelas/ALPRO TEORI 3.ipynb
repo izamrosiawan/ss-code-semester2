{
 "cells": [
  {
   "cell_type": "markdown",
   "metadata": {},
   "source": [
    "## PROSEDUR"
   ]
  },
  {
   "cell_type": "code",
   "execution_count": 2,
   "metadata": {},
   "outputs": [],
   "source": [
    "def tesGlobal():\n",
    "    global A\n",
    "    A = A + 10\n",
    "\n",
    "def main_tes():\n",
    "    print(\"before \", A)\n",
    "    tesGlobal()\n",
    "    print(\"after \", A)"
   ]
  },
  {
   "cell_type": "code",
   "execution_count": 9,
   "metadata": {},
   "outputs": [
    {
     "name": "stdout",
     "output_type": "stream",
     "text": [
      "before  7\n",
      "after  17\n"
     ]
    }
   ],
   "source": [
    "A = 7\n",
    "main_tes()"
   ]
  },
  {
   "cell_type": "code",
   "execution_count": 10,
   "metadata": {},
   "outputs": [],
   "source": [
    "def main():\n",
    "    N = int(input(\"Masukan banyak data: \"))\n",
    "\n",
    "    print(f\"Jumlah data: {N}\")\n",
    "\n",
    "    for i in range(1, N+1):\n",
    "        a, t = map(int, input(f\"Masukkan alas dan tinggi ke-{i} (pisahkan dengan spapsi): \").split ())\n",
    "        L = hitung_luas(a,t)\n",
    "        print(f\"Luas segitiga ke-{i}: {L}\")\n",
    "\n",
    "def hitung_luas(alas: int, tinggi: int) -> float:\n",
    "    luas = (alas * tinggi) / 2\n",
    "    return luas"
   ]
  },
  {
   "cell_type": "code",
   "execution_count": 12,
   "metadata": {},
   "outputs": [
    {
     "name": "stdout",
     "output_type": "stream",
     "text": [
      "Jumlah data: 2\n",
      "Luas segitiga ke-1: 15.0\n",
      "Luas segitiga ke-2: 17.5\n"
     ]
    }
   ],
   "source": [
    "main()"
   ]
  },
  {
   "cell_type": "markdown",
   "metadata": {},
   "source": [
    "mengkonversi temprature dalam satuan Celcius ke dalam satuan Reamur, Fahrenheit, dan Kelvin."
   ]
  },
  {
   "cell_type": "code",
   "execution_count": 15,
   "metadata": {},
   "outputs": [
    {
     "name": "stdout",
     "output_type": "stream",
     "text": [
      "Jumlah data: 1\n"
     ]
    }
   ],
   "source": [
    "def coba():\n",
    "    C = int(input(\"Masukkan banyak data: \"))\n",
    "\n",
    "    print(f\"Jumlah data: {C}\")\n",
    "\n",
    "    for  i in range(1, C):\n",
    "        a = int(input(f\"Masukkan suhu dalam Celcius: \"))\n",
    "        R = (4/5) * a\n",
    "        F = (9/5) * a + 32\n",
    "        K = a + 273\n",
    "        print(f\"Reamur: {R}\")\n",
    "        print(f\"Fahrenheit: {F}\")\n",
    "        print(f\"Kelvin: {K}\")\n",
    "\n",
    "\n",
    "\n",
    "coba()\n"
   ]
  },
  {
   "cell_type": "code",
   "execution_count": 21,
   "metadata": {},
   "outputs": [],
   "source": [
    "def suhu():\n",
    "    C = float(input(\"Masukkan suhu: \"))\n",
    "    R = (4/5) * C\n",
    "    F = (9/5) * C + 32\n",
    "    K = C + 273\n",
    "    print(f\"Celcius: {C} dan Reamur: {R} dan Fahrenheit: {F} dan Kelvin: {K}\")\n",
    "\n"
   ]
  },
  {
   "cell_type": "code",
   "execution_count": 20,
   "metadata": {},
   "outputs": [
    {
     "name": "stdout",
     "output_type": "stream",
     "text": [
      "Celcius: 30.0 dan Reamur: 24.0 dan Fahrenheit: 86.0 dan Kelvin: 303.0\n"
     ]
    }
   ],
   "source": [
    "suhu()"
   ]
  },
  {
   "cell_type": "code",
   "execution_count": 23,
   "metadata": {},
   "outputs": [
    {
     "name": "stdout",
     "output_type": "stream",
     "text": [
      "Celcius: 45.0 dan Reamur: 36.0 dan Fahrenheit: 113.0 dan Kelvin: 318.0\n"
     ]
    }
   ],
   "source": [
    "suhu()"
   ]
  },
  {
   "cell_type": "code",
   "execution_count": 41,
   "metadata": {},
   "outputs": [
    {
     "name": "stdout",
     "output_type": "stream",
     "text": [
      "Suhu dalam Celcius: 25.0 dan Reamur: 20.0 dan Fahrenheit: 77.0 dan Kelvin: 298.0\n"
     ]
    }
   ],
   "source": [
    "def konversi_suhu(C):\n",
    "    F = (C * (9/5)) + 32\n",
    "    R = (4/5) * C\n",
    "    K = C + 273\n",
    "    return R,F,K\n",
    "\n",
    "def main():\n",
    "    C = float(input(\"Masukkan suhu dalam Celcius: \"))\n",
    "    R,F,K = konversi_suhu(C)\n",
    "    print(f\"Suhu dalam Celcius: {C} dan Reamur: {R} dan Fahrenheit: {F} dan Kelvin: {K}\")\n",
    "main()"
   ]
  },
  {
   "cell_type": "code",
   "execution_count": 47,
   "metadata": {},
   "outputs": [
    {
     "name": "stdout",
     "output_type": "stream",
     "text": [
      "Suhu dalam Celcius: 25.0 dan Reamur: 77.0 dan Fahrenheit: 20.0 dan Kelvin: 298.0\n"
     ]
    }
   ],
   "source": [
    "def tempratur():\n",
    "    C = float(input(\"Masukkan suhu dalam Celcius: \"))\n",
    "    F,R,K = hitung_suhu(C)\n",
    "    print(f\"Suhu dalam Celcius: {C} dan Reamur: {R} dan Fahrenheit: {F} dan Kelvin: {K}\")\n",
    "\n",
    "def hitung_suhu(C:float) -> float:\n",
    "    F = (C * (9/5)) + 32\n",
    "    R = (4/5) * C\n",
    "    K = C + 273\n",
    "    return R,F,K\n",
    "tempratur()"
   ]
  },
  {
   "cell_type": "code",
   "execution_count": 43,
   "metadata": {},
   "outputs": [
    {
     "name": "stdout",
     "output_type": "stream",
     "text": [
      "Suhu dalam Celcius: 25.0 dan Reamur: 77.0 dan Fahrenheit: 20.0 dan Kelvin: 298.0\n"
     ]
    }
   ],
   "source": [
    "tempratur()"
   ]
  },
  {
   "cell_type": "code",
   "execution_count": 3,
   "metadata": {},
   "outputs": [
    {
     "name": "stdout",
     "output_type": "stream",
     "text": [
      "5 lembar uang 10.000, 2 lembar uang 2.000, 0 lembar uang 1.000\n"
     ]
    }
   ],
   "source": [
    "def denom():\n",
    "    uang = int(input(\"Masukkan uang anda: \"))\n",
    "    K10, K2, K1 = hitung_denom(uang)\n",
    "    print(f\"{K10} lembar uang 10.000, {K2} lembar uang 2.000, {K1} lembar uang 1.000\")\n",
    "\n",
    "def hitung_denom(uang: int) -> int:\n",
    "    K10 = uang // 10000\n",
    "    sisa = uang % 10000\n",
    "    K2 = sisa // 2000\n",
    "    sisa = sisa % 2000\n",
    "    K1 = sisa // 1000\n",
    "    return K10, K2, K1\n",
    "denom()\n",
    "\n",
    "\n"
   ]
  },
  {
   "cell_type": "code",
   "execution_count": 6,
   "metadata": {},
   "outputs": [
    {
     "name": "stdout",
     "output_type": "stream",
     "text": [
      "3 lembar uang 10.000, 3 lembar uang 2.000, 1 lembar uang 1.000\n"
     ]
    }
   ],
   "source": [
    "denom()"
   ]
  },
  {
   "cell_type": "code",
   "execution_count": null,
   "metadata": {},
   "outputs": [],
   "source": []
  }
 ],
 "metadata": {
  "kernelspec": {
   "display_name": "Python 3",
   "language": "python",
   "name": "python3"
  },
  "language_info": {
   "codemirror_mode": {
    "name": "ipython",
    "version": 3
   },
   "file_extension": ".py",
   "mimetype": "text/x-python",
   "name": "python",
   "nbconvert_exporter": "python",
   "pygments_lexer": "ipython3",
   "version": "3.11.9"
  }
 },
 "nbformat": 4,
 "nbformat_minor": 2
}
