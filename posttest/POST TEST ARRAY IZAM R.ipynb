{
 "cells": [
  {
   "cell_type": "markdown",
   "metadata": {},
   "source": [
    "### NAMA = IZAM ROSIAWAN\n",
    "### NIM = 103102400049\n",
    "### KELAS = DS - 04 - 02"
   ]
  },
  {
   "cell_type": "code",
   "execution_count": null,
   "metadata": {},
   "outputs": [
    {
     "name": "stdout",
     "output_type": "stream",
     "text": [
      "Apel Melon Pisang Jeruk Nanas\n",
      "Apel Melon Pisang Jeruk Nanas\n",
      "Apel Melon Pisang Jeruk Nanas\n",
      "Apel Melon Pisang Jeruk Nanas\n",
      "Apel Melon Pisang Jeruk Nanas\n",
      "Apel Melon Pisang Jeruk Nanas\n",
      "Apel Melon Pisang Jeruk Nanas\n",
      "\n",
      "Jeruk : 7\n",
      "Nanas : 7\n",
      "Pisang : 7\n",
      "Melon : 7\n",
      "Apel : 7\n",
      "Total 5 macam buah\n"
     ]
    }
   ],
   "source": [
    "list_buah = [\n",
    "    ['Apel', 'Apel', 'Apel', 'Apel', 'Apel', 'Apel', 'Apel'],\n",
    "    ['Melon', 'Melon', 'Melon', 'Melon', 'Melon', 'Melon', 'Melon'],\n",
    "    ['Pisang', 'Pisang', 'Pisang', 'Pisang', 'Pisang', 'Pisang', 'Pisang'], #List buah yang dijual\n",
    "    ['Jeruk', 'Jeruk', 'Jeruk', 'Jeruk', 'Jeruk', 'Jeruk', 'Jeruk'],\n",
    "    ['Nanas', 'Nanas', 'Nanas', 'Nanas', 'Nanas', 'Nanas', 'Nanas']\n",
    "]\n",
    "\n",
    "for i in range(len(list_buah[0])): #Ini menampilkan buah-buah secara vertikal\n",
    "    print(\" \".join(baris[i] for baris in list_buah))\n",
    "\n",
    "stok_buah = {buah: sum(baris.count(buah) for baris in list_buah) for buah in set(buah for baris in list_buah for buah in baris)} #menghitung total stok setiap buah.\n",
    "\n",
    "print()\n",
    "for buah, stok in stok_buah.items():\n",
    "    print(f\"{buah} : {stok}\") #Menampilkan output yang di inginkan\n",
    "\n",
    "print(f\"Total {len(stok_buah)} macam buah\") #Menampilkan total buah yang ada"
   ]
  }
 ],
 "metadata": {
  "kernelspec": {
   "display_name": "Python 3",
   "language": "python",
   "name": "python3"
  },
  "language_info": {
   "codemirror_mode": {
    "name": "ipython",
    "version": 3
   },
   "file_extension": ".py",
   "mimetype": "text/x-python",
   "name": "python",
   "nbconvert_exporter": "python",
   "pygments_lexer": "ipython3",
   "version": "3.11.9"
  }
 },
 "nbformat": 4,
 "nbformat_minor": 2
}
