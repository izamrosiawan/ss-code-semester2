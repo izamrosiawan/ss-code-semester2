{
 "cells": [
  {
   "cell_type": "markdown",
   "metadata": {},
   "source": [
    "NAMA : IZAM ROSIAWAN (103102400049)"
   ]
  },
  {
   "cell_type": "markdown",
   "metadata": {},
   "source": [
    "Soal 1: Pencarian Nilai Ekstrem \n",
    "Dina memiliki daftar nilai ujian matematika teman-temannya: [78, 85, 92, 67, 88, 90, 73]. \n",
    "Ia ingin mengetahui nilai tertinggi dan terendah dari daftar tersebut."
   ]
  },
  {
   "cell_type": "markdown",
   "metadata": {},
   "source": [
    "Menggunakan fungsi max() dan min() untuk mencari nilai maksimum dan minimum dari daftar nilai."
   ]
  },
  {
   "cell_type": "code",
   "execution_count": 9,
   "metadata": {},
   "outputs": [
    {
     "name": "stdout",
     "output_type": "stream",
     "text": [
      "Nilai maksimum: 92\n",
      "Nilai minimum: 67\n"
     ]
    }
   ],
   "source": [
    "nilai = [78, 85, 92, 67, 88, 90, 73]\n",
    "nilai_maks = max(nilai) #Menggunakan max() untuk mendapatkan nilai maksimum\n",
    "nilai_min = min(nilai) #Menggunakan min() untuk mendapatkan nilai minimum\n",
    "#Menampilkan hasil\n",
    "print(\"Nilai maksimum:\", nilai_maks)\n",
    "print(\"Nilai minimum:\", nilai_min)"
   ]
  },
  {
   "cell_type": "markdown",
   "metadata": {},
   "source": [
    "Menggunakan perulangan untuk mencari nilai maksimum dan minimum"
   ]
  },
  {
   "cell_type": "code",
   "execution_count": 10,
   "metadata": {},
   "outputs": [
    {
     "name": "stdout",
     "output_type": "stream",
     "text": [
      "Nilai maksimum: 92\n",
      "Nilai minimum: 67\n"
     ]
    }
   ],
   "source": [
    "def cari_nilai_maks(daftar): #Fungsi untuk mencari nilai maksimum\n",
    "    maks = daftar[0]\n",
    "    for nilai in daftar:\n",
    "        if nilai > maks:\n",
    "            maks = nilai\n",
    "    return maks\n",
    "\n",
    "def cari_nilai_min(daftar): #Fungsi untuk mencari nilai minimum\n",
    "    minim = daftar[0]\n",
    "    for nilai in daftar:\n",
    "        if nilai < minim:\n",
    "            minim = nilai\n",
    "    return minim\n",
    "\n",
    "nilai = [78, 85, 92, 67, 88, 90, 73] #Daftar nilai\n",
    "\n",
    "nilai_maksimum = cari_nilai_maks(nilai)\n",
    "nilai_minimum = cari_nilai_min(nilai)\n",
    "\n",
    "print(\"Nilai maksimum:\", nilai_maksimum)\n",
    "print(\"Nilai minimum:\", nilai_minimum)"
   ]
  },
  {
   "cell_type": "markdown",
   "metadata": {},
   "source": [
    "Soal 2: Pencarian Sequential dan Pembaruan Kontak \n",
    "Andi sedang mencari nomor telepon temannya, Budi, dalam daftar kontak yang tidak \n",
    "terurut. Kontak disimpan dalam bentuk array, dan setiap elemen adalah sebuah tipe bentukan \n",
    "Kontak yang terdiri dari dua bagian: nama (string), nomor (string)"
   ]
  },
  {
   "cell_type": "markdown",
   "metadata": {},
   "source": [
    "Namun, Budi baru saja mengganti nomor teleponnya. Andi ingin mencari nama \"Budi\" \n",
    "dalam daftar kontak menggunakan pencarian sequential (sequential search) dan kemudian \n",
    "memperbarui nomor telepon Budi menjadi \"089999999999\". "
   ]
  },
  {
   "cell_type": "markdown",
   "metadata": {},
   "source": [
    "Langkah-langkah:\n",
    "\n",
    "Daftar kontak tidak terurut, sehingga pencarian dilakukan dari elemen pertama hingga elemen terakhir.\n",
    "\n",
    "Bandingkan nama \"Budi\" dengan setiap nama dalam daftar:\n",
    "\n",
    "\"Citra\" \"Budi\" = lanjut.\n",
    "\n",
    "\"Dina\" \"Budi\" = lanjut.\n",
    "\n",
    "\"Andi\" \"Budi\" = lanjut.\n",
    "\n",
    "\"Budi\" \"Budi\" = ditemukan"
   ]
  },
  {
   "cell_type": "code",
   "execution_count": 11,
   "metadata": {},
   "outputs": [
    {
     "name": "stdout",
     "output_type": "stream",
     "text": [
      "Nomor Budi berhasil diupdate!\n",
      "\n",
      "Daftar Kontak Terbaru:\n",
      "Citra: 081234567890\n",
      "Dina: 082345678901\n",
      "Andi: 083456789012\n",
      "Budi: 089999999999\n",
      "Eka: 085678901234\n"
     ]
    }
   ],
   "source": [
    "class Kontak: #Tipe bentukan Kontak\n",
    "    def __init__(self, nama, nomor):\n",
    "        self.nama = nama\n",
    "        self.nomor = nomor\n",
    "\n",
    "daftar_kontak = [\n",
    "    (\"Citra\", \"081234567890\"),\n",
    "    (\"Dina\", \"082345678901\"),\n",
    "    (\"Andi\", \"083456789012\"),\n",
    "    (\"Budi\", \"084567890123\"),\n",
    "    (\"Eka\", \"085678901234\")\n",
    "]\n",
    "\n",
    "def update_kontak(daftar, nama_cari, nomor_baru): #Fungsi untuk memperbarui nomor kontak\n",
    "    for i, (nama, _) in enumerate(daftar):\n",
    "        if nama == nama_cari:\n",
    "            daftar[i] = (nama, nomor_baru)\n",
    "            print(f\"Nomor {nama} berhasil diupdate!\")\n",
    "            return daftar\n",
    "    print(f\"{nama_cari} tidak ditemukan!\")\n",
    "    return daftar\n",
    "\n",
    "daftar_kontak = update_kontak(daftar_kontak, \"Budi\", \"089999999999\") #Mengupdate nomor kontak Budi\n",
    "\n",
    "print(\"\\nDaftar Kontak Terbaru:\")\n",
    "for nama, nomor in daftar_kontak: #Menampilkan daftar kontak terbaru\n",
    "    print(f\"{nama}: {nomor}\")"
   ]
  },
  {
   "cell_type": "markdown",
   "metadata": {},
   "source": [
    "Soal 3: Pencarian Binary \n",
    "Siti memiliki daftar harga buku yang sudah diurutkan secara ascending: [45, 50, 55, 60, 65, \n",
    "70, 75]. Ia ingin mencari apakah ada buku dengan harga 60. "
   ]
  },
  {
   "cell_type": "markdown",
   "metadata": {},
   "source": [
    "Langkah-langkah:\n",
    "\n",
    "Cek tengah:\n",
    "\n",
    "Jika pas = ketemu!\n",
    "\n",
    "Jika terlalu kecil = cari kanan\n",
    "\n",
    "Jika terlalu besar = cari kiri\n",
    "\n",
    "Ulangi sampai ketemu atau habis."
   ]
  },
  {
   "cell_type": "code",
   "execution_count": 12,
   "metadata": {},
   "outputs": [
    {
     "name": "stdout",
     "output_type": "stream",
     "text": [
      "Harga 60 ditemukan di indeks 3 dalam 1 langkah\n"
     ]
    }
   ],
   "source": [
    "def binary_search(daftar_harga, cari_harga): #Fungsi untuk melakukan pencarian binary\n",
    "    awal = 0\n",
    "    akhir = len(daftar_harga) - 1\n",
    "    langkah = 0\n",
    "    \n",
    "    while awal <= akhir: #Perulangan untuk mencari harga\n",
    "        langkah += 1\n",
    "        tengah = (awal + akhir) // 2\n",
    "        \n",
    "        if daftar_harga[tengah] == cari_harga: #Jika harga yang dicari ada di daftar harga\n",
    "            return tengah, langkah\n",
    "        elif daftar_harga[tengah] < cari_harga: #Jika harga yang dicari lebih besar dari harga tengah\n",
    "            awal = tengah + 1\n",
    "        else:\n",
    "            akhir = tengah - 1\n",
    "    \n",
    "    return -1, langkah\n",
    "\n",
    "harga_buku = [45, 50, 55, 60, 65, 70, 75]\n",
    "posisi, langkah = binary_search(harga_buku, 60) #Memanggil fungsi binary_search\n",
    "\n",
    "if posisi != -1: #Jika harga yang dicari ada di daftar harga\n",
    "    print(f\"Harga 60 ditemukan di indeks {posisi} dalam {langkah} langkah\")\n",
    "else:\n",
    "    print(\"Harga tidak ditemukan\")"
   ]
  },
  {
   "cell_type": "code",
   "execution_count": null,
   "metadata": {},
   "outputs": [],
   "source": []
  }
 ],
 "metadata": {
  "kernelspec": {
   "display_name": "Python 3",
   "language": "python",
   "name": "python3"
  },
  "language_info": {
   "codemirror_mode": {
    "name": "ipython",
    "version": 3
   },
   "file_extension": ".py",
   "mimetype": "text/x-python",
   "name": "python",
   "nbconvert_exporter": "python",
   "pygments_lexer": "ipython3",
   "version": "3.11.9"
  }
 },
 "nbformat": 4,
 "nbformat_minor": 2
}
