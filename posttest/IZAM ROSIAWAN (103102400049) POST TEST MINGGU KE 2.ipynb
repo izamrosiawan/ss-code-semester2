{
 "cells": [
  {
   "cell_type": "markdown",
   "metadata": {},
   "source": [
    "### NAMA : IZAM ROSIAWAN\n",
    "### NIM : 103102400049\n",
    "### KELAS : DS 04 02"
   ]
  },
  {
   "cell_type": "markdown",
   "metadata": {},
   "source": [
    "Soal Studi Kasus: Analisis Nilai Siswa \n",
    "Deskripsi: \n",
    "\n",
    "Di sebuah sekolah, ada seorang guru bernama Bu Siti yang ingin membuat \n",
    "program untuk membantu menghitung nilai siswa. Setiap siswa mengikuti tiga \n",
    "ujian, dan Bu Siti ingin mengetahui beberapa informasi penting: \n",
    "\n",
    "1. Rata-rata nilai dari tiga ujian. \n",
    "2. Nilai tertinggi dan terendah yang diperoleh siswa. \n",
    "3. Status kelulusan siswa (Lulus jika rata-rata ≥ 70, Gagal jika < 70). \n",
    "\n",
    "Bantu Bu Siti dengan membuat sebuah fungsi hitung_nilai yang menerima tiga \n",
    "nilai ujian dari seorang siswa dan mengembalikan informasi yang dibutuhkan. \n",
    "Gunakan konsep fungsi, prosedur, dan lambda dalam penyelesaiannya. "
   ]
  },
  {
   "cell_type": "code",
   "execution_count": 4,
   "metadata": {},
   "outputs": [
    {
     "name": "stdout",
     "output_type": "stream",
     "text": [
      "Rata-rata: 76.00\n",
      "Nilai Tertinggi: 90.0\n",
      "Nilai Terendah: 60.0\n",
      "Status Kelulusan: Lulus\n"
     ]
    }
   ],
   "source": [
    "def hitung_nilai(ujian1, ujian2, ujian3):\n",
    "    rata_rata = (ujian1 + ujian2 + ujian3) / 3\n",
    "    return {\n",
    "        \"Rata-rata\": rata_rata,\n",
    "        \"Nilai Tertinggi\": max(ujian1, ujian2, ujian3),\n",
    "        \"Nilai Terendah\": min(ujian1, ujian2, ujian3),\n",
    "        \"Status\": \"Lulus\" if rata_rata >= 70 else \"Gagal\"\n",
    "    }\n",
    "\n",
    "ujian1 = float(input(\"Masukkan nilai ujian 1: \"))\n",
    "ujian2 = float(input(\"Masukkan nilai ujian 2: \"))\n",
    "ujian3 = float(input(\"Masukkan nilai ujian 3: \"))\n",
    "\n",
    "hasil = hitung_nilai(ujian1, ujian2, ujian3)\n",
    "\n",
    "print(f\"Rata-rata: {hasil['Rata-rata']:.2f}\")\n",
    "print(f\"Nilai Tertinggi: {hasil['Nilai Tertinggi']}\")\n",
    "print(f\"Nilai Terendah: {hasil['Nilai Terendah']}\")\n",
    "print(f\"Status Kelulusan: {hasil['Status']}\")"
   ]
  },
  {
   "cell_type": "code",
   "execution_count": null,
   "metadata": {},
   "outputs": [],
   "source": []
  }
 ],
 "metadata": {
  "kernelspec": {
   "display_name": "Python 3",
   "language": "python",
   "name": "python3"
  },
  "language_info": {
   "codemirror_mode": {
    "name": "ipython",
    "version": 3
   },
   "file_extension": ".py",
   "mimetype": "text/x-python",
   "name": "python",
   "nbconvert_exporter": "python",
   "pygments_lexer": "ipython3",
   "version": "3.11.9"
  }
 },
 "nbformat": 4,
 "nbformat_minor": 2
}
